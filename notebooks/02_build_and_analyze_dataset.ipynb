{
 "cells": [
  {
   "cell_type": "markdown",
   "metadata": {},
   "source": [
    "# Amazon Reviews 2023 Data Loading and Preprocessing\n",
    "\n",
    "This notebook loads and preprocesses the Amazon Books dataset for Semantic ID generation in the recommendation system.\n",
    "\n",
    "## Overview\n",
    "- Load Amazon Books reviews and metadata\n",
    "- Clean and filter the data\n",
    "- Prepare item descriptions for Semantic ID generation\n",
    "- Create user-item interaction matrix\n",
    "- Save processed datasets for next phase"
   ]
  },
  {
   "cell_type": "markdown",
   "metadata": {},
   "source": [
    "### 1. Import Libraries and Setup"
   ]
  },
  {
   "cell_type": "code",
   "execution_count": 2,
   "metadata": {},
   "outputs": [],
   "source": [
    "import warnings\n",
    "warnings.filterwarnings('ignore')\n",
    "from preprocessing import stream_jsonl_gz, get_item_id, unix_seconds, scrub, to_text_list, join_short, build_description, shape_history, show_examples, eval_tail\n",
    "import os\n",
    "import pandas as pd\n",
    "import numpy as np\n",
    "from tqdm.notebook import tqdm\n",
    "import matplotlib.pyplot as plt\n",
    "from pathlib import Path\n",
    "from transformers import AutoTokenizer\n",
    "\n",
    "REVIEWS_PATH = \"data/raw/Books_reviews.jsonl.gz\"\n",
    "META_PATH    = \"data/raw/Books_meta.jsonl.gz\"\n",
    "\n",
    "OUT_ROOT = \"data/processed/books\"\n",
    "os.makedirs(OUT_ROOT, exist_ok=True)\n",
    "\n",
    "ITEMS_OUT = f\"{OUT_ROOT}/items.parquet\"\n",
    "INTER_OUT = f\"{OUT_ROOT}/interactions.parquet\""
   ]
  },
  {
   "cell_type": "markdown",
   "metadata": {},
   "source": [
    "### 2. Load and Inspect Raw Data"
   ]
  },
  {
   "cell_type": "code",
   "execution_count": 3,
   "metadata": {},
   "outputs": [
    {
     "name": "stdout",
     "output_type": "stream",
     "text": [
      "REVIEWS (5 rows) keys:\n",
      "\n",
      "Row 1:\n",
      "  rating: 1.0\n",
      "  title: Not a watercolor book! Seems like copies imo.\n",
      "  text: It is definitely not a watercolor book.  The paper bucked completely.  The pages honestly appear to ...\n",
      "  images: [{'small_image_url': 'https://m.media-amazon.com/images/I/516HBU7LQoL._SL256_.jpg', 'medium_image_url': 'https://m.media-amazon.com/images/I/516HBU7LQoL._SL800_.jpg', 'large_image_url': 'https://m.media-amazon.com/images/I/516HBU7LQoL._SL1600_.jpg', 'attachment_type': 'IMAGE'}, {'small_image_url': 'https://m.media-amazon.com/images/I/71+XwcacMmL._SL256_.jpg', 'medium_image_url': 'https://m.media-amazon.com/images/I/71+XwcacMmL._SL800_.jpg', 'large_image_url': 'https://m.media-amazon.com/images/I/71+XwcacMmL._SL1600_.jpg', 'attachment_type': 'IMAGE'}, {'small_image_url': 'https://m.media-amazon.com/images/I/71RbTuvD1ZL._SL256_.jpg', 'medium_image_url': 'https://m.media-amazon.com/images/I/71RbTuvD1ZL._SL800_.jpg', 'large_image_url': 'https://m.media-amazon.com/images/I/71RbTuvD1ZL._SL1600_.jpg', 'attachment_type': 'IMAGE'}, {'small_image_url': 'https://m.media-amazon.com/images/I/71U63wdOeZL._SL256_.jpg', 'medium_image_url': 'https://m.media-amazon.com/images/I/71U63wdOeZL._SL800_.jpg', 'large_image_url': 'https://m.media-amazon.com/images/I/71U63wdOeZL._SL1600_.jpg', 'attachment_type': 'IMAGE'}, {'small_image_url': 'https://m.media-amazon.com/images/I/71WFEDyKcKL._SL256_.jpg', 'medium_image_url': 'https://m.media-amazon.com/images/I/71WFEDyKcKL._SL800_.jpg', 'large_image_url': 'https://m.media-amazon.com/images/I/71WFEDyKcKL._SL1600_.jpg', 'attachment_type': 'IMAGE'}, {'small_image_url': 'https://m.media-amazon.com/images/I/8109NwjpHKL._SL256_.jpg', 'medium_image_url': 'https://m.media-amazon.com/images/I/8109NwjpHKL._SL800_.jpg', 'large_image_url': 'https://m.media-amazon.com/images/I/8109NwjpHKL._SL1600_.jpg', 'attachment_type': 'IMAGE'}, {'small_image_url': 'https://m.media-amazon.com/images/I/814gxfh8wcL._SL256_.jpg', 'medium_image_url': 'https://m.media-amazon.com/images/I/814gxfh8wcL._SL800_.jpg', 'large_image_url': 'https://m.media-amazon.com/images/I/814gxfh8wcL._SL1600_.jpg', 'attachment_type': 'IMAGE'}, {'small_image_url': 'https://m.media-amazon.com/images/I/81HC0vKRC2L._SL256_.jpg', 'medium_image_url': 'https://m.media-amazon.com/images/I/81HC0vKRC2L._SL800_.jpg', 'large_image_url': 'https://m.media-amazon.com/images/I/81HC0vKRC2L._SL1600_.jpg', 'attachment_type': 'IMAGE'}, {'small_image_url': 'https://m.media-amazon.com/images/I/81Nx6BnRLxL._SL256_.jpg', 'medium_image_url': 'https://m.media-amazon.com/images/I/81Nx6BnRLxL._SL800_.jpg', 'large_image_url': 'https://m.media-amazon.com/images/I/81Nx6BnRLxL._SL1600_.jpg', 'attachment_type': 'IMAGE'}, {'small_image_url': 'https://m.media-amazon.com/images/I/81QQMwBcVPL._SL256_.jpg', 'medium_image_url': 'https://m.media-amazon.com/images/I/81QQMwBcVPL._SL800_.jpg', 'large_image_url': 'https://m.media-amazon.com/images/I/81QQMwBcVPL._SL1600_.jpg', 'attachment_type': 'IMAGE'}, {'small_image_url': 'https://m.media-amazon.com/images/I/81fgT3R3OwL._SL256_.jpg', 'medium_image_url': 'https://m.media-amazon.com/images/I/81fgT3R3OwL._SL800_.jpg', 'large_image_url': 'https://m.media-amazon.com/images/I/81fgT3R3OwL._SL1600_.jpg', 'attachment_type': 'IMAGE'}, {'small_image_url': 'https://m.media-amazon.com/images/I/81mfzny0I5L._SL256_.jpg', 'medium_image_url': 'https://m.media-amazon.com/images/I/81mfzny0I5L._SL800_.jpg', 'large_image_url': 'https://m.media-amazon.com/images/I/81mfzny0I5L._SL1600_.jpg', 'attachment_type': 'IMAGE'}, {'small_image_url': 'https://m.media-amazon.com/images/I/81nir7bf91L._SL256_.jpg', 'medium_image_url': 'https://m.media-amazon.com/images/I/81nir7bf91L._SL800_.jpg', 'large_image_url': 'https://m.media-amazon.com/images/I/81nir7bf91L._SL1600_.jpg', 'attachment_type': 'IMAGE'}, {'small_image_url': 'https://m.media-amazon.com/images/I/81yLUo6ZL3L._SL256_.jpg', 'medium_image_url': 'https://m.media-amazon.com/images/I/81yLUo6ZL3L._SL800_.jpg', 'large_image_url': 'https://m.media-amazon.com/images/I/81yLUo6ZL3L._SL1600_.jpg', 'attachment_type': 'IMAGE'}, {'small_image_url': 'https://m.media-amazon.com/images/I/81zh9h5RwkL._SL256_.jpg', 'medium_image_url': 'https://m.media-amazon.com/images/I/81zh9h5RwkL._SL800_.jpg', 'large_image_url': 'https://m.media-amazon.com/images/I/81zh9h5RwkL._SL1600_.jpg', 'attachment_type': 'IMAGE'}, {'small_image_url': 'https://m.media-amazon.com/images/I/91yfcpFlEqL._SL256_.jpg', 'medium_image_url': 'https://m.media-amazon.com/images/I/91yfcpFlEqL._SL800_.jpg', 'large_image_url': 'https://m.media-amazon.com/images/I/91yfcpFlEqL._SL1600_.jpg', 'attachment_type': 'IMAGE'}]\n",
      "  asin: B09BGPFTDB\n",
      "  parent_asin: B09BGPFTDB\n",
      "  user_id: AFKZENTNBQ7A7V7UXW5JJI6UGRYQ\n",
      "  timestamp: 1642399598485\n",
      "  helpful_vote: 0\n",
      "  verified_purchase: True\n",
      "\n",
      "Row 2:\n",
      "  rating: 5.0\n",
      "  title: Updated: after 1st arrived damaged this one is perfect\n",
      "  text: Updated: after first book arrived very damaged the replacement arrived in perfect condition.\n",
      "  images: []\n",
      "  asin: 0593235657\n",
      "  parent_asin: 0593235657\n",
      "  user_id: AFKZENTNBQ7A7V7UXW5JJI6UGRYQ\n",
      "  timestamp: 1640629604904\n",
      "  helpful_vote: 1\n",
      "  verified_purchase: True\n",
      "\n",
      "Row 3:\n",
      "  rating: 5.0\n",
      "  title: Excellent! I love it!\n",
      "  text: I bought it for the bag on the front so it paid for itself with that imo.  I haven’t started anythin...\n",
      "  images: []\n",
      "  asin: 1782490671\n",
      "  parent_asin: 1782490671\n",
      "  user_id: AFKZENTNBQ7A7V7UXW5JJI6UGRYQ\n",
      "  timestamp: 1640383495102\n",
      "  helpful_vote: 0\n",
      "  verified_purchase: True\n",
      "\n",
      "Row 4:\n",
      "  rating: 5.0\n",
      "  title: Updated after 1st arrived damaged. Excellent\n",
      "  text: Updated: after 1st arrived damaged the replacement arrived in perfect condition.\n",
      "  images: []\n",
      "  asin: 0593138228\n",
      "  parent_asin: 0593138228\n",
      "  user_id: AFKZENTNBQ7A7V7UXW5JJI6UGRYQ\n",
      "  timestamp: 1640364906602\n",
      "  helpful_vote: 0\n",
      "  verified_purchase: False\n",
      "\n",
      "Row 5:\n",
      "  rating: 5.0\n",
      "  title: Beautiful patterns!\n",
      "  text: I love this book!  The patterns are lovely. I admit I’m not even following all of them to the letter...\n",
      "  images: [{'small_image_url': 'https://m.media-amazon.com/images/I/5158z6bYn+L._SL256_.jpg', 'medium_image_url': 'https://m.media-amazon.com/images/I/5158z6bYn+L._SL800_.jpg', 'large_image_url': 'https://m.media-amazon.com/images/I/5158z6bYn+L._SL1600_.jpg', 'attachment_type': 'IMAGE'}, {'small_image_url': 'https://m.media-amazon.com/images/I/516VkTey4PL._SL256_.jpg', 'medium_image_url': 'https://m.media-amazon.com/images/I/516VkTey4PL._SL800_.jpg', 'large_image_url': 'https://m.media-amazon.com/images/I/516VkTey4PL._SL1600_.jpg', 'attachment_type': 'IMAGE'}, {'small_image_url': 'https://m.media-amazon.com/images/I/715n594CVdL._SL256_.jpg', 'medium_image_url': 'https://m.media-amazon.com/images/I/715n594CVdL._SL800_.jpg', 'large_image_url': 'https://m.media-amazon.com/images/I/715n594CVdL._SL1600_.jpg', 'attachment_type': 'IMAGE'}, {'small_image_url': 'https://m.media-amazon.com/images/I/71Ks5fLSS2L._SL256_.jpg', 'medium_image_url': 'https://m.media-amazon.com/images/I/71Ks5fLSS2L._SL800_.jpg', 'large_image_url': 'https://m.media-amazon.com/images/I/71Ks5fLSS2L._SL1600_.jpg', 'attachment_type': 'IMAGE'}]\n",
      "  asin: 0823098079\n",
      "  parent_asin: 0823098079\n",
      "  user_id: AFKZENTNBQ7A7V7UXW5JJI6UGRYQ\n",
      "  timestamp: 1637312253230\n",
      "  helpful_vote: 0\n",
      "  verified_purchase: True\n",
      "\n",
      "\n",
      "META (5 rows) keys:\n",
      "\n",
      "Row 1:\n",
      "  main_category: Books\n",
      "  title: Chaucer\n",
      "  subtitle: Hardcover – Import, January 1, 2004\n",
      "  author: {'avatar': 'https://m.media-amazon.com/images/I/21Je2zja9pL._SY600_.jpg', 'name': 'Peter Ackroyd', 'about': ['Peter Ackroyd, (born 5 October 1949) is an English biographer, novelist and critic with a particular interest in the history and culture of London. For his novels about English history and culture and his biographies of, among others, William Blake, Charles Dickens, T. S. Eliot and Sir Thomas More, he won the Somerset Maugham Award and two Whitbread Awards. He is noted for the volume of work he has produced, the range of styles therein, his skill at assuming different voices and the depth of his research.', 'He was elected a fellow of the Royal Society of Literature in 1984 and appointed a Commander of the Order of the British Empire in 2003.', 'Bio from Wikipedia, the free encyclopedia.']}\n",
      "  average_rating: 4.5\n",
      "  rating_number: 29\n",
      "  features: []\n",
      "  description: []\n",
      "  price: 8.23\n",
      "  images: [{'large': 'https://m.media-amazon.com/images/I/41X61VPJYKL._SX334_BO1,204,203,200_.jpg', 'variant': 'MAIN'}]\n",
      "  videos: []\n",
      "  store: Peter Ackroyd (Author)\n",
      "  categories: ['Books', 'Literature & Fiction', 'History & Criticism']\n",
      "  details: {'Publisher': 'Chatto & Windus; First Edition (January 1, 2004)', 'Language': 'English', 'Hardcover': '196 pages', 'ISBN 10': '0701169850', 'ISBN 13': '978-0701169855', 'Item Weight': '10.1 ounces', 'Dimensions': '5.39 x 0.71 x 7.48 inches'}\n",
      "  parent_asin: 0701169850\n",
      "  bought_together: None\n",
      "\n",
      "Row 2:\n",
      "  main_category: Books\n",
      "  title: Notes from a Kidwatcher\n",
      "  subtitle: First Edition\n",
      "  author: {'avatar': 'https://m.media-amazon.com/images/I/01Kv-W2ysOL._SY600_.png', 'name': 'Yetta M. Goodman', 'about': ['Discover more of the author’s books, see similar authors, read author blogs and more']}\n",
      "  average_rating: 5.0\n",
      "  rating_number: 1\n",
      "  features: [\"Contains 23 selected articles by this influential writer, researcher, educator, and speaker. They're grouped around six major themes inherent in teacher education: culture and community; miscue analysis, reading strategies and comprehension; print awareness and the roots of literacy; the writing process; kidwatching; and whole language theory. No index. Annotation c. by Book News, Inc., Portland, Or.\"]\n",
      "  description: ['About the Author', \"SANDRA WILDE, Ph.D., is widely recognized for her expertise in developmental spelling and her advocacy of holistic approaches to spelling and phonics. She is Professor of Curriculum and Instruction at Portland State University in Oregon. She is best known for her work in invented spelling, phonics and miscue analysis. She specializes in showing teachers how kids' invented spellings and miscues can help us work with them in more sophisticated and learner-centered ways. Looking at what kids do as they read and write is at the heart of Sandra's presentations and workshops. She can do lively keynote presentations that highlight the interesting things that we can learn by paying close attention to students' invented spellings and miscues, as well as workshops of varying lengths that focus on student-centered teaching of spelling and phonics. She has recently begun offering workshops that focus on understanding students' miscues as a guide to appropriate instruction, p\"]\n",
      "  price: 3.52\n",
      "  images: [{'large': 'https://m.media-amazon.com/images/I/41bfTRxpMML._SX218_BO1,204,203,200_QL40_FMwebp_.jpg', 'variant': 'MAIN'}]\n",
      "  videos: []\n",
      "  store: Sandra Wilde (Editor)\n",
      "  categories: ['Books', 'Reference', 'Words, Language & Grammar']\n",
      "  details: {'Publisher': 'Heinemann; First Edition (May 20, 1996)', 'Language': 'English', 'Paperback': '316 pages', 'ISBN 10': '0435088688', 'ISBN 13': '978-0435088682', 'Item Weight': '1.05 pounds', 'Dimensions': '6.03 x 0.67 x 8.95 inches'}\n",
      "  parent_asin: 0435088688\n",
      "  bought_together: None\n",
      "\n",
      "Row 3:\n",
      "  main_category: Books\n",
      "  title: Service: A Navy SEAL at War\n",
      "  subtitle: Hardcover – May 8, 2012\n",
      "  author: {'avatar': 'https://m.media-amazon.com/images/I/31rBoNEHiFL._SY600_.jpg', 'name': 'Marcus Luttrell', 'about': ['Petty Officer First Class Marcus Luttrell was born in Huntsville, Texas in 1975.']}\n",
      "  average_rating: 4.7\n",
      "  rating_number: 3421\n",
      "  features: ['Marcus Luttrell, author of the #1 bestseller', 'Lone Survivor', ', share war stories about true American heroism from himself and other soldiers who bravely fought alongside him.', \"Navy SEAL Marcus Luttrell returned from his star-crossed mission in Afghanistan with his bones shattered and his heart broken. So many had given their lives to save him -- and he would have readily done the same for them. As he recuperated, he wondered why he and others, from America's founding to today, had been willing to sacrifice everything-including themselves-for the sake of family, nation, and freedom.  In\", 'Service', \", we follow Marcus Luttrell to Iraq, where he returns to the battlefield as a member of SEAL Team 5 to help take on the most dangerous city in the world: Ramadi, the capital of war-torn Al Anbar Province. There, in six months of high-intensity urban combat, he would be part of what has been called the greatest victory in the history of U.S. Special Operations forces. We also return to Afghanistan and Operation Redwing, where Luttrell offers powerful new details about his miraculous rescue. Throughout, he reflects on what it really means to take on a higher calling, about the men he's seen lose their lives for their country, and the legacy of those who came and bled before.  A thrilling war story,\", 'Service', 'is also a profoundly moving tribute to the warrior brotherhood, to the belief that nobody goes it alone, and no one will be left behind.']\n",
      "  description: ['Review', 'Praise for SERVICE\"An action-packed...reflective saga of contemporary military service.\"―', 'Kirkus Reviews', '\"Marcus Luttrell, with James D. Hornfischer, has written another emotional story that the reader will not want to put down.\"―', 'American Thinker', 'About the Author', 'Marcus Luttrell', 'became a combat-trained Navy SEAL in 2002 and served in many dangerous Special Operations assignments around the world. He is the author of the', 'New York Times', 'bestseller', 'Lone Survivor', ', and is a popular corporate and organizational speaker. He lives near Houston, Texas.\\xa0James D. Hornfischer\\xa0is the author of four bestselling books on the U.S. Navy in World War II,', 'The Fleet at Flood', 'Tide', ',', \"Neptune's\", 'Inferno, Ship of Ghosts,', 'and', 'The Last Stand of the Tin Can Sailors,', 'winner of the Samuel Eliot Morison Award. He lives in Austin, Texas.']\n",
      "  price: 17.17\n",
      "  images: [{'large': 'https://m.media-amazon.com/images/I/41YQHDWRyGL._SX321_BO1,204,203,200_.jpg', 'variant': 'MAIN'}]\n",
      "  videos: []\n",
      "  store: Marcus Luttrell (Author),  James D. Hornfischer\n",
      "  categories: ['Books', 'Biographies & Memoirs', 'Leaders & Notable People']\n",
      "  details: {'Publisher': 'Little, Brown and Company; 1st edition (May 8, 2012)', 'Language': 'English', 'Hardcover': '384 pages', 'ISBN 10': '9780316185363', 'ISBN 13': '978-0316185363', 'Item Weight': '1.4 pounds', 'Dimensions': '6.25 x 1.55 x 9.55 inches'}\n",
      "  parent_asin: 0316185361\n",
      "  bought_together: None\n",
      "\n",
      "Row 4:\n",
      "  main_category: Books\n",
      "  title: Monstrous Stories #4: The Day the Mice Stood Still\n",
      "  subtitle: Paperback – October 29, 2013\n",
      "  author: None\n",
      "  average_rating: 4.4\n",
      "  rating_number: 40\n",
      "  features: [\"Funny, light-hearted monster stories that are perfect for young readers, brought to us by the esteemed Dr. Roach.Jilly can't believe what she's seeing when she wakes up one seemingly normal morning. All the mice in her small town of Buffalo Bottom have gone strangely still. What could make a town full of rodents suddenly freeze up?Things only get weirder, though, when the town is suddenly visited by a flying saucer--full of talking cats! These friendly felines say they come in peace, to help rid Buffalo Bottom of its mouse problem. But when the town's cows start disappearing mysteriously, Jilly suspects the visitors may be up to no good. Now she just has to prove it.\"]\n",
      "  description: []\n",
      "  price: 7.43\n",
      "  images: [{'large': 'https://m.media-amazon.com/images/I/614Mx0QCe7L._SX339_BO1,204,203,200_.jpg', 'variant': 'MAIN'}]\n",
      "  videos: []\n",
      "  store: Dr. Roach (Author)\n",
      "  categories: ['Books', \"Children's Books\", 'Science Fiction & Fantasy']\n",
      "  details: {'Publisher': 'Scholastic Paperbacks; Reprint edition (October 29, 2013)', 'Language': 'English', 'Paperback': '64 pages', 'ISBN 10': '0545425573', 'ISBN 13': '978-0545425575', 'Reading age': '7 - 10 years', 'Lexile measure': '590L', 'Grade level': '2 - 5', 'Item Weight': '1.92 ounces', 'Dimensions': '5.25 x 0.2 x 7.5 inches'}\n",
      "  parent_asin: 0545425573\n",
      "  bought_together: None\n",
      "\n",
      "Row 5:\n",
      "  main_category: Buy a Kindle\n",
      "  title: Parker & Knight\n",
      "  subtitle: Kindle Edition\n",
      "  author: {'avatar': 'https://m.media-amazon.com/images/S/amzn-author-media-prod/p5em8p7bskq0m3fr3tncs8ghcf._SY600_.jpg', 'name': 'Donald Wells', 'about': ['Discover more of the author’s books, see similar authors, read author blogs and more']}\n",
      "  average_rating: 4.5\n",
      "  rating_number: 381\n",
      "  features: ['From REMINGTON KANE, the author of The Taken! & Tanner SeriesPARKER & KNIGHT', \"When beautiful, nineteen-year-old Tiffany Grace is found murdered inside the house next door, Detectives Rick Parker and Joanna Knight are brought in to investigate.What they find is a tangled web of love, lies and infidelity between the homeowners, Alex and Mandy Kent, and their young neighbors, murder victim, Tiffany Grace, and her handsome brother, Steve.As Parker wades through the Kents' marital woes, he also has to deal with his own, as his marriage comes to a close.Did Alex Kent kill Tiffany, a young woman he lusted for deeply? Or did Mandy Kent kill her, to keep her from her husband? The truth is more twisted than Parker and Knight could have imagined.\"]\n",
      "  description: []\n",
      "  price: 0.0\n",
      "  images: [{'large': 'https://m.media-amazon.com/images/I/41j6GpAqFBL.jpg', 'variant': 'MAIN'}]\n",
      "  videos: []\n",
      "  store: Remington Kane (Author)   Format: Kindle Edition\n",
      "  categories: ['Books', 'Mystery, Thriller & Suspense', 'Thrillers & Suspense']\n",
      "  details: {'Publication date': 'May 18, 2014', 'Language': 'English', 'File size': '1542 KB', 'Simultaneous device usage': 'Unlimited', 'Text to Speech': 'Enabled', 'Screen Reader': 'Supported', 'Enhanced typesetting': 'Enabled', 'X Ray': 'Not Enabled', 'Word Wise': 'Enabled', 'Sticky notes': 'On Kindle Scribe', 'Print length': '233 pages'}\n",
      "  parent_asin: B00KFOP3RG\n",
      "  bought_together: None\n"
     ]
    }
   ],
   "source": [
    "# Reviews preview\n",
    "r_samp = []\n",
    "for i, obj in enumerate(stream_jsonl_gz(REVIEWS_PATH)):\n",
    "    r_samp.append(obj)\n",
    "    if i >= 4: break\n",
    "\n",
    "print(\"REVIEWS (5 rows) keys:\")\n",
    "for j, o in enumerate(r_samp, 1):\n",
    "    print(f\"\\nRow {j}:\")\n",
    "    for k, v in o.items():\n",
    "        if isinstance(v, str) and len(v) > 100:\n",
    "            print(f\"  {k}: {v[:100]}...\")\n",
    "        else:\n",
    "            print(f\"  {k}: {v}\")\n",
    "\n",
    "# Metadata preview\n",
    "m_samp = []\n",
    "for i, obj in enumerate(stream_jsonl_gz(META_PATH)):\n",
    "    m_samp.append(obj)\n",
    "    if i >= 4: break\n",
    "\n",
    "print(\"\\n\\nMETA (5 rows) keys:\")\n",
    "for j, o in enumerate(m_samp, 1):\n",
    "    print(f\"\\nRow {j}:\")\n",
    "    for k, v in o.items():\n",
    "        if isinstance(v, str) and len(v) > 100:\n",
    "            print(f\"  {k}: {v[:100]}...\")\n",
    "        else:\n",
    "            print(f\"  {k}: {v}\")\n"
   ]
  },
  {
   "cell_type": "markdown",
   "metadata": {},
   "source": [
    "### 3. Check Coverage and Select Join Key"
   ]
  },
  {
   "cell_type": "code",
   "execution_count": 3,
   "metadata": {},
   "outputs": [
    {
     "name": "stdout",
     "output_type": "stream",
     "text": [
      "Meta parent_asin unique: 4,448,181\n",
      "Reviews parent_asin unique: 4,446,065 | asin unique: 4,493,336\n",
      "Coverage if we use reviews parent_asin → meta parent_asin: 1.000\n",
      "Coverage if we use reviews asin       → meta parent_asin: 0.985\n"
     ]
    }
   ],
   "source": [
    "MAX_SCAN = None  # None for full scan\n",
    "\n",
    "# collect IDs from meta (parent_asin only)\n",
    "meta_parent = set()\n",
    "for i, obj in enumerate(stream_jsonl_gz(META_PATH)):\n",
    "    if obj.get(\"parent_asin\"):\n",
    "        meta_parent.add(str(obj[\"parent_asin\"]))\n",
    "    if MAX_SCAN and i+1 >= MAX_SCAN: break\n",
    "\n",
    "# collect IDs from reviews (both fields)\n",
    "rev_parent, rev_asin = set(), set()\n",
    "for i, obj in enumerate(stream_jsonl_gz(REVIEWS_PATH)):\n",
    "    if obj.get(\"parent_asin\"):\n",
    "        rev_parent.add(str(obj[\"parent_asin\"]))\n",
    "    if obj.get(\"asin\"):\n",
    "        rev_asin.add(str(obj[\"asin\"]))\n",
    "    if MAX_SCAN and i+1 >= MAX_SCAN: break\n",
    "\n",
    "print(f\"Meta parent_asin unique: {len(meta_parent):,}\")\n",
    "print(f\"Reviews parent_asin unique: {len(rev_parent):,} | asin unique: {len(rev_asin):,}\")\n",
    "\n",
    "cov_parent = len(rev_parent & meta_parent) / max(len(rev_parent), 1)\n",
    "cov_asin   = len(rev_asin & meta_parent) / max(len(rev_asin), 1)\n",
    "print(f\"Coverage if we use reviews parent_asin → meta parent_asin: {cov_parent:.3f}\")\n",
    "print(f\"Coverage if we use reviews asin       → meta parent_asin: {cov_asin:.3f}\")"
   ]
  },
  {
   "cell_type": "markdown",
   "metadata": {},
   "source": [
    "### 4. Build Item Descriptions"
   ]
  },
  {
   "cell_type": "code",
   "execution_count": 4,
   "metadata": {},
   "outputs": [
    {
     "name": "stdout",
     "output_type": "stream",
     "text": [
      "\n",
      "ITEM 0701169850 | len=101\n",
      "Chaucer: Hardcover – Import, January 1, 2004 Literature & Fiction > History & Criticism Peter Ackroyd \n",
      "\n",
      "ITEM 0435088688 | len=403\n",
      "Contains 23 selected articles by this influential writer, researcher, educator, and speaker. They're grouped around six major themes inherent in teacher education: culture and community; miscue analysis, reading strategies and comprehension; print awareness and the roots of literacy; the writing pro ...\n",
      "\n",
      "ITEM 0316185361 | len=604\n",
      "Marcus Luttrell, author of the #1 bestseller • Lone Survivor • , share war stories about true American heroism from himself and other soldiers who bravely fought alongside him. • Navy SEAL Marcus Luttrell returned from his star-crossed mission in Afghanistan with his bones shattered and his heart br ...\n",
      "\n",
      "ITEM 0545425573 | len=675\n",
      "Funny, light-hearted monster stories that are perfect for young readers, brought to us by the esteemed Dr. Roach.Jilly can't believe what she's seeing when she wakes up one seemingly normal morning. All the mice in her small town of Buffalo Bottom have gone strangely still. What could make a town fu ...\n",
      "\n",
      "ITEM B00KFOP3RG | len=746\n",
      "From REMINGTON KANE, the author of The Taken! & Tanner SeriesPARKER & KNIGHT • When beautiful, nineteen-year-old Tiffany Grace is found murdered inside the house next door, Detectives Rick Parker and Joanna Knight are brought in to investigate.What they find is a tangled web of love, lies and infide ...\n"
     ]
    }
   ],
   "source": [
    "# Try it on 5 metadata samples to see the effect\n",
    "for i, obj in enumerate(stream_jsonl_gz(META_PATH)):\n",
    "    item_id = get_item_id(obj)\n",
    "    if not item_id: \n",
    "        continue\n",
    "    built = build_description(obj)\n",
    "    print(f\"\\nITEM {item_id} | len={len(built)}\")\n",
    "    print(built[:300], \"...\" if len(built) > 300 else \"\")\n",
    "    if i >= 4: break\n"
   ]
  },
  {
   "cell_type": "code",
   "execution_count": 5,
   "metadata": {},
   "outputs": [
    {
     "data": {
      "application/vnd.jupyter.widget-view+json": {
       "model_id": "e887d18dd5224ccca7034083a7f2fd1f",
       "version_major": 2,
       "version_minor": 0
      },
      "text/plain": [
       "meta→items: 0it [00:00, ?it/s]"
      ]
     },
     "metadata": {},
     "output_type": "display_data"
    },
    {
     "name": "stdout",
     "output_type": "stream",
     "text": [
      "\n",
      "[items] total scanned: 4,448,181 | kept: 3,983,264\n",
      "        native: 1,817,509 | fallback: 2,165,755\n",
      "count    3.983264e+06\n",
      "mean     7.010672e+02\n",
      "std      5.329366e+02\n",
      "min      8.000000e+01\n",
      "25%      2.830000e+02\n",
      "50%      6.030000e+02\n",
      "75%      9.730000e+02\n",
      "max      4.000000e+03\n",
      "Name: desc_len, dtype: float64\n",
      "desc_source\n",
      "fallback    0.543714\n",
      "native      0.456286\n",
      "Name: proportion, dtype: float64\n"
     ]
    }
   ],
   "source": [
    "# ====== params that i won't test ======\n",
    "MIN_DESC_LEN = 80           \n",
    "LAST_CHANCE_TITLE_MIN = 20  # title-only fallback length\n",
    "KEEP_ONLY_NATIVE_DESC = False \n",
    "\n",
    "# ---------- ITEMS ----------\n",
    "rows = []\n",
    "seen_items = set()\n",
    "n_total = n_kept = n_fallback = n_native = 0\n",
    "\n",
    "for i, obj in enumerate(tqdm(stream_jsonl_gz(META_PATH), desc=\"meta→items\")):\n",
    "    n_total += 1\n",
    "    item_id = get_item_id(obj)\n",
    "    if not item_id or item_id in seen_items:\n",
    "        continue\n",
    "\n",
    "    # detect whether native description exists\n",
    "    native_desc_exists = bool(obj.get('description')) and len(to_text_list(obj.get('description'))) > 0\n",
    "\n",
    "    if KEEP_ONLY_NATIVE_DESC and not native_desc_exists:\n",
    "        continue\n",
    "\n",
    "    text = build_description(obj)  # native + fallbacks concatenated\n",
    "\n",
    "    if len(text) < MIN_DESC_LEN:\n",
    "        # last-chance: title only if long enough\n",
    "        title = scrub(obj.get('title', ''))\n",
    "        if len(title) >= LAST_CHANCE_TITLE_MIN:\n",
    "            text = title\n",
    "\n",
    "    if len(text) < MIN_DESC_LEN:\n",
    "        continue\n",
    "\n",
    "    desc_source = 'native' if native_desc_exists else 'fallback'\n",
    "    desc_len = len(text)\n",
    "\n",
    "    seen_items.add(item_id)\n",
    "    n_kept += 1\n",
    "    if desc_source == 'native': n_native += 1\n",
    "    else: n_fallback += 1\n",
    "\n",
    "    rows.append((item_id, text, desc_source, desc_len))\n",
    "\n",
    "items_df = pd.DataFrame(rows, columns=[\"item_id\", \"description\", \"desc_source\", \"desc_len\"])\n",
    "\n",
    "print(f\"\\n[items] total scanned: {n_total:,} | kept: {n_kept:,}\")\n",
    "print(f\"        native: {n_native:,} | fallback: {n_fallback:,}\")\n",
    "print(items_df['desc_len'].describe())\n",
    "print(items_df['desc_source'].value_counts(normalize=True))"
   ]
  },
  {
   "cell_type": "markdown",
   "metadata": {},
   "source": [
    "### 5. Build User–Item Interactions"
   ]
  },
  {
   "cell_type": "code",
   "execution_count": 6,
   "metadata": {},
   "outputs": [
    {
     "data": {
      "application/vnd.jupyter.widget-view+json": {
       "model_id": "34c0a525ca58449b9fe7d5db27285d8e",
       "version_major": 2,
       "version_minor": 0
      },
      "text/plain": [
       "reviews→interactions: 0it [00:00, ?it/s]"
      ]
     },
     "metadata": {},
     "output_type": "display_data"
    },
    {
     "name": "stdout",
     "output_type": "stream",
     "text": [
      "\n",
      "[interactions] total scanned: 29,475,453 | kept rows: 27,830,991\n",
      "users: 10014001 | items: 3981337\n",
      "label_pos\n",
      "1.0    0.849764\n",
      "0.0    0.150236\n",
      "Name: proportion, dtype: float64\n"
     ]
    }
   ],
   "source": [
    "# ---------- INTERACTIONS ----------\n",
    "POS_THRESHOLD = 4.0         # binarize label_pos = (rating >= POS_THRESHOLD)\n",
    "\n",
    "valid_items = set(items_df['item_id'].tolist())\n",
    "rows = []\n",
    "n_total = n_kept = 0\n",
    "\n",
    "for i, obj in enumerate(tqdm(stream_jsonl_gz(REVIEWS_PATH), desc=\"reviews→interactions\")):\n",
    "    n_total += 1\n",
    "    user_id = obj.get('user_id') or obj.get('reviewerID') or obj.get('customer_id')\n",
    "    item_id = get_item_id(obj)\n",
    "    if not user_id or not item_id:\n",
    "        continue\n",
    "    if item_id not in valid_items:\n",
    "        continue\n",
    "\n",
    "    ts = obj.get('timestamp') or obj.get('unixReviewTime') or obj.get('review_time') or obj.get('reviewTime')\n",
    "    ts = unix_seconds(ts)\n",
    "    if ts is None:\n",
    "        continue\n",
    "\n",
    "    rating = obj.get('rating') or obj.get('overall') or obj.get('star_rating')\n",
    "    try:\n",
    "        rating = float(rating)\n",
    "    except Exception:\n",
    "        continue\n",
    "\n",
    "    label_pos = 1.0 if rating >= POS_THRESHOLD else 0.0\n",
    "\n",
    "    rows.append((str(user_id), str(item_id), float(rating), float(label_pos), int(ts)))\n",
    "    n_kept += 1\n",
    "\n",
    "inter_df = pd.DataFrame(rows, columns=[\"user_id\",\"item_id\",\"rating\",\"label_pos\",\"timestamp\"])\n",
    "\n",
    "# Keep ALL rows (pos+neg).\n",
    "# But dedupe to earliest per (user,item) to avoid repeated interactions biasing:\n",
    "inter_df.sort_values(\"timestamp\", inplace=True)\n",
    "inter_df = inter_df.drop_duplicates(subset=[\"user_id\",\"item_id\"], keep=\"first\")\n",
    "\n",
    "print(f\"\\n[interactions] total scanned: {n_total:,} | kept rows: {len(inter_df):,}\")\n",
    "print(\"users:\", inter_df['user_id'].nunique(), \"| items:\", inter_df['item_id'].nunique())\n",
    "print(inter_df['label_pos'].value_counts(normalize=True))"
   ]
  },
  {
   "cell_type": "markdown",
   "metadata": {},
   "source": [
    "### 6. Quick EDA"
   ]
  },
  {
   "cell_type": "code",
   "execution_count": 7,
   "metadata": {},
   "outputs": [
    {
     "name": "stdout",
     "output_type": "stream",
     "text": [
      "Items:\n"
     ]
    },
    {
     "data": {
      "text/html": [
       "<div>\n",
       "<style scoped>\n",
       "    .dataframe tbody tr th:only-of-type {\n",
       "        vertical-align: middle;\n",
       "    }\n",
       "\n",
       "    .dataframe tbody tr th {\n",
       "        vertical-align: top;\n",
       "    }\n",
       "\n",
       "    .dataframe thead th {\n",
       "        text-align: right;\n",
       "    }\n",
       "</style>\n",
       "<table border=\"1\" class=\"dataframe\">\n",
       "  <thead>\n",
       "    <tr style=\"text-align: right;\">\n",
       "      <th></th>\n",
       "      <th>item_id</th>\n",
       "      <th>description</th>\n",
       "      <th>desc_source</th>\n",
       "      <th>desc_len</th>\n",
       "    </tr>\n",
       "  </thead>\n",
       "  <tbody>\n",
       "    <tr>\n",
       "      <th>0</th>\n",
       "      <td>0701169850</td>\n",
       "      <td>Chaucer: Hardcover – Import, January 1, 2004 L...</td>\n",
       "      <td>fallback</td>\n",
       "      <td>101</td>\n",
       "    </tr>\n",
       "    <tr>\n",
       "      <th>1</th>\n",
       "      <td>0435088688</td>\n",
       "      <td>Contains 23 selected articles by this influent...</td>\n",
       "      <td>native</td>\n",
       "      <td>403</td>\n",
       "    </tr>\n",
       "  </tbody>\n",
       "</table>\n",
       "</div>"
      ],
      "text/plain": [
       "      item_id                                        description desc_source  \\\n",
       "0  0701169850  Chaucer: Hardcover – Import, January 1, 2004 L...    fallback   \n",
       "1  0435088688  Contains 23 selected articles by this influent...      native   \n",
       "\n",
       "   desc_len  \n",
       "0       101  \n",
       "1       403  "
      ]
     },
     "metadata": {},
     "output_type": "display_data"
    },
    {
     "name": "stdout",
     "output_type": "stream",
     "text": [
      "\n",
      "Interactions:\n"
     ]
    },
    {
     "data": {
      "text/html": [
       "<div>\n",
       "<style scoped>\n",
       "    .dataframe tbody tr th:only-of-type {\n",
       "        vertical-align: middle;\n",
       "    }\n",
       "\n",
       "    .dataframe tbody tr th {\n",
       "        vertical-align: top;\n",
       "    }\n",
       "\n",
       "    .dataframe thead th {\n",
       "        text-align: right;\n",
       "    }\n",
       "</style>\n",
       "<table border=\"1\" class=\"dataframe\">\n",
       "  <thead>\n",
       "    <tr style=\"text-align: right;\">\n",
       "      <th></th>\n",
       "      <th>user_id</th>\n",
       "      <th>item_id</th>\n",
       "      <th>rating</th>\n",
       "      <th>label_pos</th>\n",
       "      <th>timestamp</th>\n",
       "    </tr>\n",
       "  </thead>\n",
       "  <tbody>\n",
       "    <tr>\n",
       "      <th>11452230</th>\n",
       "      <td>AECPR4ROUNWGRETSG3TUGIHFUQCA</td>\n",
       "      <td>0684849550</td>\n",
       "      <td>2.0</td>\n",
       "      <td>0.0</td>\n",
       "      <td>1000000079</td>\n",
       "    </tr>\n",
       "    <tr>\n",
       "      <th>19154582</th>\n",
       "      <td>AFIZD4DTRHHKRRKLGQBR3GYZ2L4A</td>\n",
       "      <td>0761117199</td>\n",
       "      <td>5.0</td>\n",
       "      <td>1.0</td>\n",
       "      <td>1000000167</td>\n",
       "    </tr>\n",
       "  </tbody>\n",
       "</table>\n",
       "</div>"
      ],
      "text/plain": [
       "                               user_id     item_id  rating  label_pos  \\\n",
       "11452230  AECPR4ROUNWGRETSG3TUGIHFUQCA  0684849550     2.0        0.0   \n",
       "19154582  AFIZD4DTRHHKRRKLGQBR3GYZ2L4A  0761117199     5.0        1.0   \n",
       "\n",
       "           timestamp  \n",
       "11452230  1000000079  \n",
       "19154582  1000000167  "
      ]
     },
     "metadata": {},
     "output_type": "display_data"
    }
   ],
   "source": [
    "print(\"Items:\")\n",
    "display(items_df.head(2))\n",
    "print(\"\\nInteractions:\")\n",
    "display(inter_df.head(2))"
   ]
  },
  {
   "cell_type": "code",
   "execution_count": 8,
   "metadata": {},
   "outputs": [
    {
     "name": "stdout",
     "output_type": "stream",
     "text": [
      "Items:\n"
     ]
    },
    {
     "data": {
      "text/html": [
       "<div>\n",
       "<style scoped>\n",
       "    .dataframe tbody tr th:only-of-type {\n",
       "        vertical-align: middle;\n",
       "    }\n",
       "\n",
       "    .dataframe tbody tr th {\n",
       "        vertical-align: top;\n",
       "    }\n",
       "\n",
       "    .dataframe thead th {\n",
       "        text-align: right;\n",
       "    }\n",
       "</style>\n",
       "<table border=\"1\" class=\"dataframe\">\n",
       "  <thead>\n",
       "    <tr style=\"text-align: right;\">\n",
       "      <th></th>\n",
       "      <th>item_id</th>\n",
       "      <th>description</th>\n",
       "      <th>desc_source</th>\n",
       "      <th>desc_len</th>\n",
       "    </tr>\n",
       "  </thead>\n",
       "  <tbody>\n",
       "    <tr>\n",
       "      <th>3983262</th>\n",
       "      <td>0925873039</td>\n",
       "      <td>Trails Illustrated National Parks Guadalupe Mo...</td>\n",
       "      <td>fallback</td>\n",
       "      <td>122</td>\n",
       "    </tr>\n",
       "    <tr>\n",
       "      <th>3983263</th>\n",
       "      <td>0271024852</td>\n",
       "      <td>One hundred years after the death of Friedrich...</td>\n",
       "      <td>native</td>\n",
       "      <td>1306</td>\n",
       "    </tr>\n",
       "  </tbody>\n",
       "</table>\n",
       "</div>"
      ],
      "text/plain": [
       "            item_id                                        description  \\\n",
       "3983262  0925873039  Trails Illustrated National Parks Guadalupe Mo...   \n",
       "3983263  0271024852  One hundred years after the death of Friedrich...   \n",
       "\n",
       "        desc_source  desc_len  \n",
       "3983262    fallback       122  \n",
       "3983263      native      1306  "
      ]
     },
     "metadata": {},
     "output_type": "display_data"
    },
    {
     "name": "stdout",
     "output_type": "stream",
     "text": [
      "\n",
      "Interactions:\n"
     ]
    },
    {
     "data": {
      "text/html": [
       "<div>\n",
       "<style scoped>\n",
       "    .dataframe tbody tr th:only-of-type {\n",
       "        vertical-align: middle;\n",
       "    }\n",
       "\n",
       "    .dataframe tbody tr th {\n",
       "        vertical-align: top;\n",
       "    }\n",
       "\n",
       "    .dataframe thead th {\n",
       "        text-align: right;\n",
       "    }\n",
       "</style>\n",
       "<table border=\"1\" class=\"dataframe\">\n",
       "  <thead>\n",
       "    <tr style=\"text-align: right;\">\n",
       "      <th></th>\n",
       "      <th>user_id</th>\n",
       "      <th>item_id</th>\n",
       "      <th>rating</th>\n",
       "      <th>label_pos</th>\n",
       "      <th>timestamp</th>\n",
       "    </tr>\n",
       "  </thead>\n",
       "  <tbody>\n",
       "    <tr>\n",
       "      <th>16584341</th>\n",
       "      <td>AH7FOW3RBTCA7YNRMTTYQDWRP5IA</td>\n",
       "      <td>0964084929</td>\n",
       "      <td>4.0</td>\n",
       "      <td>1.0</td>\n",
       "      <td>999999613000</td>\n",
       "    </tr>\n",
       "    <tr>\n",
       "      <th>28001368</th>\n",
       "      <td>AH33GOLMPRUOA5MRTUQJP47HMA4Q</td>\n",
       "      <td>0439219183</td>\n",
       "      <td>5.0</td>\n",
       "      <td>1.0</td>\n",
       "      <td>999999957000</td>\n",
       "    </tr>\n",
       "  </tbody>\n",
       "</table>\n",
       "</div>"
      ],
      "text/plain": [
       "                               user_id     item_id  rating  label_pos  \\\n",
       "16584341  AH7FOW3RBTCA7YNRMTTYQDWRP5IA  0964084929     4.0        1.0   \n",
       "28001368  AH33GOLMPRUOA5MRTUQJP47HMA4Q  0439219183     5.0        1.0   \n",
       "\n",
       "             timestamp  \n",
       "16584341  999999613000  \n",
       "28001368  999999957000  "
      ]
     },
     "metadata": {},
     "output_type": "display_data"
    }
   ],
   "source": [
    "print(\"Items:\")\n",
    "display(items_df.tail(2))\n",
    "print(\"\\nInteractions:\")\n",
    "display(inter_df.tail(2))"
   ]
  },
  {
   "cell_type": "code",
   "execution_count": 9,
   "metadata": {},
   "outputs": [
    {
     "name": "stdout",
     "output_type": "stream",
     "text": [
      "<class 'pandas.core.frame.DataFrame'>\n",
      "RangeIndex: 3983264 entries, 0 to 3983263\n",
      "Data columns (total 4 columns):\n",
      " #   Column       Dtype \n",
      "---  ------       ----- \n",
      " 0   item_id      object\n",
      " 1   description  object\n",
      " 2   desc_source  object\n",
      " 3   desc_len     int64 \n",
      "dtypes: int64(1), object(3)\n",
      "memory usage: 121.6+ MB\n"
     ]
    }
   ],
   "source": [
    "items_df.info()"
   ]
  },
  {
   "cell_type": "code",
   "execution_count": 10,
   "metadata": {},
   "outputs": [
    {
     "name": "stdout",
     "output_type": "stream",
     "text": [
      "<class 'pandas.core.frame.DataFrame'>\n",
      "Index: 27830991 entries, 11452230 to 28001368\n",
      "Data columns (total 5 columns):\n",
      " #   Column     Dtype  \n",
      "---  ------     -----  \n",
      " 0   user_id    object \n",
      " 1   item_id    object \n",
      " 2   rating     float64\n",
      " 3   label_pos  float64\n",
      " 4   timestamp  int64  \n",
      "dtypes: float64(2), int64(1), object(2)\n",
      "memory usage: 1.2+ GB\n"
     ]
    }
   ],
   "source": [
    "inter_df.info()"
   ]
  },
  {
   "cell_type": "code",
   "execution_count": 13,
   "metadata": {},
   "outputs": [
    {
     "data": {
      "image/png": "[encoded data removed]",
      "text/plain": [
       "<Figure size 400x300 with 1 Axes>"
      ]
     },
     "metadata": {},
     "output_type": "display_data"
    }
   ],
   "source": [
    "# ratings hist\n",
    "\n",
    "plt.figure(figsize=(4,3))\n",
    "inter_df['rating'].hist(bins=[0.5,1.5,2.5,3.5,4.5,5.5], edgecolor='black')\n",
    "plt.xlabel(\"User rating (1–5 stars)\")\n",
    "plt.ylabel(\"Number of interactions\")\n",
    "plt.title(\"Ratings distribution — Amazon Books 2023\")\n",
    "plt.show()"
   ]
  },
  {
   "cell_type": "code",
   "execution_count": 14,
   "metadata": {},
   "outputs": [
    {
     "data": {
      "image/png": "[encoded data removed]",
      "text/plain": [
       "<Figure size 400x300 with 1 Axes>"
      ]
     },
     "metadata": {},
     "output_type": "display_data"
    },
    {
     "data": {
      "image/png": "[encoded data removed]",
      "text/plain": [
       "<Figure size 400x300 with 1 Axes>"
      ]
     },
     "metadata": {},
     "output_type": "display_data"
    }
   ],
   "source": [
    "# User / item frequency\n",
    "user_freq = inter_df['user_id'].value_counts()\n",
    "item_freq = inter_df['item_id'].value_counts()\n",
    "\n",
    "plt.figure(figsize=(4,3))\n",
    "plt.hist(np.log10(user_freq + 1), bins=30, color='steelblue', alpha=0.8)\n",
    "plt.xlabel(\"Number of interactions per user\")\n",
    "plt.ylabel(\"User count\")\n",
    "plt.title(\"User log distribution\")\n",
    "plt.show()\n",
    "\n",
    "plt.figure(figsize=(4,3))\n",
    "plt.hist(np.log10(item_freq + 1), bins=40, color='darkorange', alpha=0.8)\n",
    "plt.xlabel(\"Number of interactions per item\")\n",
    "plt.ylabel(\"Item count\")\n",
    "plt.title(\"Item log distribution\")\n",
    "plt.show()"
   ]
  },
  {
   "cell_type": "code",
   "execution_count": 15,
   "metadata": {},
   "outputs": [
    {
     "data": {
      "image/png": "[encoded data removed]",
      "text/plain": [
       "<Figure size 400x300 with 1 Axes>"
      ]
     },
     "metadata": {},
     "output_type": "display_data"
    }
   ],
   "source": [
    "# Pos vs Neg labels\n",
    "\n",
    "plt.figure(figsize=(4,3))\n",
    "inter_df['label_pos'].value_counts(normalize=True).plot(kind='bar', color=['orange','steelblue'])\n",
    "plt.xticks([0,1], ['Negative (0)','Positive (1)'], rotation=0)\n",
    "plt.ylabel(\"Proportion\")\n",
    "plt.title(\"Positive vs. Negative labels\")\n",
    "plt.show()"
   ]
  },
  {
   "cell_type": "code",
   "execution_count": null,
   "metadata": {},
   "outputs": [],
   "source": [
    "# Description Length: \n",
    "\n",
    "tokenizer = AutoTokenizer.from_pretrained(\"sentence-transformers/all-mpnet-base-v2\")\n",
    "texts = items_df[\"description\"]  # keep as a Series\n",
    "N = len(texts)\n",
    "lengths = np.empty(N, dtype=np.int32)\n",
    "\n",
    "B = 2048 \n",
    "for i in tqdm(range(0, N, B), desc=\"Tokenizing (full)\"):\n",
    "    batch = texts.iloc[i:i+B].tolist()\n",
    "    enc = tokenizer(\n",
    "        batch,\n",
    "        add_special_tokens=True,\n",
    "        truncation=False,\n",
    "        padding=False,\n",
    "        return_length=True\n",
    "    )\n",
    "    if \"length\" in enc:  # fast tokenizers return this\n",
    "        lengths[i:i+len(batch)] = np.asarray(enc[\"length\"], dtype=np.int32)\n",
    "    else:\n",
    "        lengths[i:i+len(batch)] = np.asarray([len(x) for x in enc[\"input_ids\"]], dtype=np.int32)\n",
    "\n",
    "items_df[\"token_len\"] = lengths  # single assign at the end"
   ]
  },
  {
   "cell_type": "code",
   "execution_count": 22,
   "metadata": {},
   "outputs": [
    {
     "data": {
      "image/png": "[encoded data removed]",
      "text/plain": [
       "<Figure size 400x300 with 1 Axes>"
      ]
     },
     "metadata": {},
     "output_type": "display_data"
    }
   ],
   "source": [
    "# 1) Tokens\n",
    "\n",
    "# Plot\n",
    "plt.figure(figsize=(4,3))\n",
    "plt.hist(lengths, bins=150)\n",
    "plt.xlabel(\"Description length (tokens)\")\n",
    "plt.ylabel(\"Number of items\")\n",
    "plt.title(\"Token-length distribution\")\n",
    "plt.show()"
   ]
  },
  {
   "cell_type": "code",
   "execution_count": 17,
   "metadata": {},
   "outputs": [
    {
     "name": "stdout",
     "output_type": "stream",
     "text": [
      "p50=130, p90=292, p99=547, share>512=1.263%\n"
     ]
    }
   ],
   "source": [
    "# Quick stats to decide truncation vs chunking\n",
    "p50 = np.percentile(lengths, 50)\n",
    "p90 = np.percentile(lengths, 90)\n",
    "p99 = np.percentile(lengths, 99)\n",
    "share_over_512 = (lengths > 512).mean()\n",
    "print(f\"p50={p50:.0f}, p90={p90:.0f}, p99={p99:.0f}, share>512={share_over_512:.3%}\")"
   ]
  },
  {
   "cell_type": "code",
   "execution_count": 18,
   "metadata": {},
   "outputs": [
    {
     "data": {
      "image/png": "[encoded data removed]",
      "text/plain": [
       "<Figure size 400x300 with 1 Axes>"
      ]
     },
     "metadata": {},
     "output_type": "display_data"
    }
   ],
   "source": [
    "# 2) Characters\n",
    "\n",
    "plt.figure(figsize=(4,3))\n",
    "items_df['desc_len'].hist(bins=50)\n",
    "plt.xlabel(\"Description length (characters)\")\n",
    "plt.ylabel(\"Number of items\")\n",
    "plt.title(\"Character-length distribution of item description\")\n",
    "plt.show()"
   ]
  },
  {
   "cell_type": "code",
   "execution_count": 19,
   "metadata": {},
   "outputs": [
    {
     "name": "stdout",
     "output_type": "stream",
     "text": [
      "Users: 10014001\n",
      "Items: 3981337\n",
      "Interactions: 27830991\n",
      "Positives (%): 84.98\n",
      "Average interactions per user: 2.779207930975841\n",
      "Average interactions per item: 6.990363036336788\n"
     ]
    }
   ],
   "source": [
    "# Summary stats\n",
    "u_cnt = inter_df[\"user_id\"].nunique()\n",
    "i_cnt = inter_df[\"item_id\"].nunique()\n",
    "print(\"Users:\", u_cnt)\n",
    "print(\"Items:\", i_cnt)\n",
    "print(\"Interactions:\", len(inter_df))\n",
    "print(\"Positives (%):\", round(inter_df['label_pos'].mean()*100, 2))\n",
    "print(\"Average interactions per user:\", len(inter_df)/inter_df['user_id'].nunique())\n",
    "print(\"Average interactions per item:\", len(inter_df)/inter_df['item_id'].nunique())"
   ]
  },
  {
   "cell_type": "markdown",
   "metadata": {},
   "source": [
    "### 7. Build Chronological Sequences (C-LOO) and Long-Tail Eval Split\n",
    "We sort each user’s interactions by timestamp. For users with __≥3 events__, we keep the last item as the predict-next target and the preceding items as history."
   ]
  },
  {
   "cell_type": "markdown",
   "metadata": {},
   "source": [
    "#### 7.1 Diagnose LOO (Chronological Leave-One-Out) viability (how many users survive ≥3?)"
   ]
  },
  {
   "cell_type": "code",
   "execution_count": 14,
   "metadata": {},
   "outputs": [
    {
     "name": "stdout",
     "output_type": "stream",
     "text": [
      "Baseline (pre-LOO) — from earlier EDA\n",
      "Users: 10,014,001\n",
      "Items: 3,981,337\n",
      "Interactions: 27,830,991\n",
      "Positives (%): 84.98\n",
      "Avg interactions/user: 2.779\n",
      "Avg interactions/item: 6.990\n",
      "\n",
      "Users with ≥3 interactions: 23.80%  (2,383,614 users)\n",
      "User interaction quantiles: {0.5: 1.0, 0.75: 2.0, 0.9: 5.0, 0.95: 8.0, 0.99: 23.0}\n"
     ]
    },
    {
     "data": {
      "image/png": "[encoded data removed]",
      "text/plain": [
       "<Figure size 700x400 with 1 Axes>"
      ]
     },
     "metadata": {},
     "output_type": "display_data"
    }
   ],
   "source": [
    "print(\"Baseline (pre-LOO) — from earlier EDA\")\n",
    "n_int = len(inter_df)\n",
    "print(f\"Users: {u_cnt:,}\")\n",
    "print(f\"Items: {i_cnt:,}\")\n",
    "print(f\"Interactions: {n_int:,}\")\n",
    "print(f\"Positives (%): {inter_df['label_pos'].mean()*100:.2f}\")\n",
    "print(f\"Avg interactions/user: {n_int/u_cnt:.3f}\")\n",
    "print(f\"Avg interactions/item: {n_int/i_cnt:.3f}\")\n",
    "\n",
    "# Distribution of interactions per user + % with >=3\n",
    "user_deg = inter_df[\"user_id\"].value_counts()\n",
    "p_ge3 = (user_deg >= 3).mean()\n",
    "print(f\"\\nUsers with ≥3 interactions: {p_ge3*100:.2f}%  ({(user_deg>=3).sum():,} users)\")\n",
    "\n",
    "# plot\n",
    "quantiles = user_deg.quantile([.5,.75,.9,.95,.99]).round(2)\n",
    "print(\"User interaction quantiles:\", quantiles.to_dict())\n",
    "\n",
    "plt.figure(figsize=(7,4))\n",
    "bins = np.arange(1, min(60, user_deg.max()+2))\n",
    "plt.hist(user_deg.values, bins=bins, alpha=0.9)\n",
    "plt.xlabel(\"Interactions per user\")\n",
    "plt.ylabel(\"User count\")\n",
    "plt.title(\"User activity (linear bins up to 60)\")\n",
    "plt.show()\n"
   ]
  },
  {
   "cell_type": "code",
   "execution_count": 11,
   "metadata": {},
   "outputs": [],
   "source": [
    "# params\n",
    "SEQ_DIR = Path(\"data/processed/books/seq\")\n",
    "SEQ_DIR.mkdir(parents=True, exist_ok=True)\n",
    "\n",
    "# History shaping\n",
    "MIN_HISTORY   = 2     # require at least 2 items in history (so total per user ≥ 3)\n",
    "MAX_HISTORY   = 50    # cap to most recent K; set None for no cap\n",
    "DEDUP_CONSEC  = True  # drop consecutive duplicates in history\n",
    "\n",
    "# Tail definition\n",
    "TAIL_FRACTION = 0.20  # bottom 20% items by frequency\n",
    "\n",
    "# Columns to keep in outputs\n",
    "SEQ_COLS = [\"user_id\",\"history\",\"target\",\"target_ts\",\"hist_len\"]"
   ]
  },
  {
   "cell_type": "markdown",
   "metadata": {},
   "source": [
    "#### 7.2 C-LOO (Chronological leave-one-out)"
   ]
  },
  {
   "cell_type": "code",
   "execution_count": 12,
   "metadata": {},
   "outputs": [
    {
     "name": "stdout",
     "output_type": "stream",
     "text": [
      "Eligible users (≥3 interactions): 2,383,614 (23.80% of users)\n",
      "Interactions retained for C-LOO pipeline: 18,415,869 (66.17% of interactions)\n"
     ]
    }
   ],
   "source": [
    "# Sort chronologically\n",
    "df = inter_df.loc[:, [\"user_id\",\"item_id\",\"timestamp\"]].sort_values(\n",
    "    [\"user_id\",\"timestamp\"], kind=\"stable\"\n",
    ").reset_index(drop=True)\n",
    "\n",
    "# Keep only users with ≥ (MIN_HISTORY + 1) total events\n",
    "user_deg = df[\"user_id\"].value_counts()\n",
    "eligible_users = user_deg.index[user_deg >= (MIN_HISTORY + 1)]\n",
    "df_elig = df[df[\"user_id\"].isin(eligible_users)].copy()\n",
    "\n",
    "print(f\"Eligible users (≥{MIN_HISTORY+1} interactions): {len(eligible_users):,} \"\n",
    "      f\"({len(eligible_users)/user_deg.size*100:.2f}% of users)\")\n",
    "print(f\"Interactions retained for C-LOO pipeline: {len(df_elig):,} \"\n",
    "      f\"({len(df_elig)/len(df)*100:.2f}% of interactions)\")\n",
    "\n",
    "# Group into sequences\n",
    "g = df_elig.groupby(\"user_id\", sort=False)"
   ]
  },
  {
   "cell_type": "code",
   "execution_count": 13,
   "metadata": {},
   "outputs": [
    {
     "name": "stdout",
     "output_type": "stream",
     "text": [
      "C-LOO sequences: 2,383,614 rows | mean hist_len=5.97\n",
      "Saved  data/processed/books/seq/c_loo_sequences.parquet\n"
     ]
    }
   ],
   "source": [
    "rows = []\n",
    "for uid, grp in g:\n",
    "    items = grp[\"item_id\"].tolist()\n",
    "    times = grp[\"timestamp\"].tolist()\n",
    "\n",
    "    # last is target\n",
    "    target, target_ts = items[-1], int(times[-1])\n",
    "\n",
    "    # history = all but last\n",
    "    history = items[:-1]\n",
    "    history = shape_history(history, dedup_consec=DEDUP_CONSEC, max_history=MAX_HISTORY)\n",
    "    if len(history) < MIN_HISTORY:\n",
    "        continue\n",
    "\n",
    "    rows.append((uid, history, target, target_ts, len(history)))\n",
    "\n",
    "c_loo_df = pd.DataFrame(rows, columns=SEQ_COLS)\n",
    "print(f\"C-LOO sequences: {len(c_loo_df):,} rows | mean hist_len={c_loo_df['hist_len'].mean():.2f}\")\n",
    "\n",
    "# Save\n",
    "c_loo_fp = SEQ_DIR / \"c_loo_sequences.parquet\"\n",
    "c_loo_df.to_parquet(c_loo_fp, index=False)\n",
    "print(\"Saved \", c_loo_fp)"
   ]
  },
  {
   "cell_type": "code",
   "execution_count": 24,
   "metadata": {},
   "outputs": [
    {
     "data": {
      "text/html": [
       "<div>\n",
       "<style scoped>\n",
       "    .dataframe tbody tr th:only-of-type {\n",
       "        vertical-align: middle;\n",
       "    }\n",
       "\n",
       "    .dataframe tbody tr th {\n",
       "        vertical-align: top;\n",
       "    }\n",
       "\n",
       "    .dataframe thead th {\n",
       "        text-align: right;\n",
       "    }\n",
       "</style>\n",
       "<table border=\"1\" class=\"dataframe\">\n",
       "  <thead>\n",
       "    <tr style=\"text-align: right;\">\n",
       "      <th></th>\n",
       "      <th>user_id</th>\n",
       "      <th>history</th>\n",
       "      <th>target</th>\n",
       "      <th>target_ts</th>\n",
       "      <th>hist_len</th>\n",
       "    </tr>\n",
       "  </thead>\n",
       "  <tbody>\n",
       "    <tr>\n",
       "      <th>0</th>\n",
       "      <td>AE22236AFRRSMQIKGG7TPTB75QEA</td>\n",
       "      <td>[0441008534, 0441009239, 0375826688, B002KQ6BT...</td>\n",
       "      <td>0061058386</td>\n",
       "      <td>933306819000</td>\n",
       "      <td>13</td>\n",
       "    </tr>\n",
       "    <tr>\n",
       "      <th>1</th>\n",
       "      <td>AE2224D3S4GTKVFJ5V7ZRQJ7P4FQ</td>\n",
       "      <td>[1476754454, B003KK5RR8, B002U3CBLQ, B01N5XZCTV]</td>\n",
       "      <td>038575311X</td>\n",
       "      <td>1563064820</td>\n",
       "      <td>4</td>\n",
       "    </tr>\n",
       "    <tr>\n",
       "      <th>2</th>\n",
       "      <td>AE2224IMTLGXRXJITJJOW5RSMW5Q</td>\n",
       "      <td>[1602397724, 006170301X, 1402775075]</td>\n",
       "      <td>0316227706</td>\n",
       "      <td>1356701157</td>\n",
       "      <td>3</td>\n",
       "    </tr>\n",
       "  </tbody>\n",
       "</table>\n",
       "</div>"
      ],
      "text/plain": [
       "                        user_id  \\\n",
       "0  AE22236AFRRSMQIKGG7TPTB75QEA   \n",
       "1  AE2224D3S4GTKVFJ5V7ZRQJ7P4FQ   \n",
       "2  AE2224IMTLGXRXJITJJOW5RSMW5Q   \n",
       "\n",
       "                                             history      target  \\\n",
       "0  [0441008534, 0441009239, 0375826688, B002KQ6BT...  0061058386   \n",
       "1   [1476754454, B003KK5RR8, B002U3CBLQ, B01N5XZCTV]  038575311X   \n",
       "2               [1602397724, 006170301X, 1402775075]  0316227706   \n",
       "\n",
       "      target_ts  hist_len  \n",
       "0  933306819000        13  \n",
       "1    1563064820         4  \n",
       "2    1356701157         3  "
      ]
     },
     "execution_count": 24,
     "metadata": {},
     "output_type": "execute_result"
    }
   ],
   "source": [
    "c_loo_df.head(3)"
   ]
  },
  {
   "cell_type": "code",
   "execution_count": 32,
   "metadata": {},
   "outputs": [
    {
     "name": "stdout",
     "output_type": "stream",
     "text": [
      "Rows: 2383614\n",
      "Min/Max: 2 / 50\n",
      "Mean/Median: 5.968 / 3\n",
      "Std: 7.61\n",
      "\n",
      "Quantiles:\n",
      "  q=0.50 → 3\n",
      "  q=0.75 → 6\n",
      "  q=0.90 → 12\n",
      "  q=0.95 → 19\n",
      "  q=0.99 → 50\n",
      "\n",
      "  ≤2: 33.91%\n",
      "  ≤3: 52.47%\n",
      "  ≤5: 71.50%\n",
      "  ≤10: 87.84%\n",
      "  ≤20: 95.47%\n"
     ]
    }
   ],
   "source": [
    "# Summary stats for hist_len\n",
    "s = c_loo_df[\"hist_len\"]\n",
    "print(\"Rows:\", len(s))\n",
    "print(\"Min/Max:\", int(s.min()), \"/\", int(s.max()))\n",
    "print(\"Mean/Median:\", round(s.mean(), 3), \"/\", int(s.median()))\n",
    "print(\"Std:\", round(s.std(), 3))\n",
    "\n",
    "qs = [0.5, 0.75, 0.9, 0.95, 0.99]\n",
    "pct = s.quantile(qs).astype(int)\n",
    "print(\"\\nQuantiles:\")\n",
    "for q, v in zip(qs, pct):\n",
    "    print(f\"  q={q:>4.2f} → {v}\")\n",
    "print()\n",
    "# Share of short histories (handy sanity checks)\n",
    "for k in [2,3,5,10,20]:\n",
    "    share = (s <= k).mean() * 100\n",
    "    print(f\"  ≤{k}: {share:5.2f}%\")"
   ]
  },
  {
   "cell_type": "code",
   "execution_count": 31,
   "metadata": {},
   "outputs": [
    {
     "data": {
      "image/png": "[encoded data removed]",
      "text/plain": [
       "<Figure size 400x300 with 1 Axes>"
      ]
     },
     "metadata": {},
     "output_type": "display_data"
    }
   ],
   "source": [
    "hist = c_loo_df[\"hist_len\"].to_numpy()\n",
    "bins = np.arange(1, hist.max() + 2)  # 1-bin per length\n",
    "\n",
    "plt.figure(figsize=(4,3))\n",
    "plt.hist(hist, bins=bins, edgecolor=\"black\")\n",
    "plt.title(\"History length distribution (C-LOO)\")\n",
    "plt.xlabel(\"# of past interactions\")\n",
    "plt.ylabel(\"# sequences\")\n",
    "plt.tight_layout()\n",
    "plt.show()\n"
   ]
  },
  {
   "cell_type": "markdown",
   "metadata": {},
   "source": [
    "#### 7.3 Tail-Target LOO (targets in the tail only)"
   ]
  },
  {
   "cell_type": "code",
   "execution_count": 18,
   "metadata": {},
   "outputs": [
    {
     "name": "stdout",
     "output_type": "stream",
     "text": [
      "Tail cutoff (bottom 20%): freq ≤ 1 | tail items = 1,553,295\n",
      "Tail-Target LOO sequences: 239,519 (10.05% of C-LOO)\n",
      "Saved  data/processed/books/seq/tail_target_loo.parquet\n"
     ]
    }
   ],
   "source": [
    "# Item frequencies among retained interactions\n",
    "item_freq = df_elig[\"item_id\"].value_counts()\n",
    "cutoff = item_freq.quantile(TAIL_FRACTION)\n",
    "tail_items = set(item_freq[item_freq <= cutoff].index)\n",
    "\n",
    "print(f\"Tail cutoff (bottom {TAIL_FRACTION:.0%}): freq ≤ {int(cutoff)} \"\n",
    "      f\"| tail items = {len(tail_items):,}\")\n",
    "\n",
    "tail_df = c_loo_df[c_loo_df[\"target\"].isin(tail_items)].reset_index(drop=True)\n",
    "print(f\"Tail-Target LOO sequences: {len(tail_df):,} \"\n",
    "      f\"({len(tail_df)/len(c_loo_df)*100:.2f}% of C-LOO)\")\n",
    "\n",
    "tail_fp = SEQ_DIR / \"tail_target_loo.parquet\"\n",
    "tail_df.to_parquet(tail_fp, index=False)\n",
    "print(\"Saved \", tail_fp)"
   ]
  },
  {
   "cell_type": "code",
   "execution_count": 19,
   "metadata": {},
   "outputs": [
    {
     "data": {
      "text/html": [
       "<div>\n",
       "<style scoped>\n",
       "    .dataframe tbody tr th:only-of-type {\n",
       "        vertical-align: middle;\n",
       "    }\n",
       "\n",
       "    .dataframe tbody tr th {\n",
       "        vertical-align: top;\n",
       "    }\n",
       "\n",
       "    .dataframe thead th {\n",
       "        text-align: right;\n",
       "    }\n",
       "</style>\n",
       "<table border=\"1\" class=\"dataframe\">\n",
       "  <thead>\n",
       "    <tr style=\"text-align: right;\">\n",
       "      <th></th>\n",
       "      <th>user_id</th>\n",
       "      <th>history</th>\n",
       "      <th>target</th>\n",
       "      <th>target_ts</th>\n",
       "      <th>hist_len</th>\n",
       "    </tr>\n",
       "  </thead>\n",
       "  <tbody>\n",
       "    <tr>\n",
       "      <th>0</th>\n",
       "      <td>AE2247UG4CWYBQSHP45IFUP4I4NA</td>\n",
       "      <td>[0785833870, 159186559X]</td>\n",
       "      <td>B089TV17J6</td>\n",
       "      <td>1630247174</td>\n",
       "      <td>2</td>\n",
       "    </tr>\n",
       "    <tr>\n",
       "      <th>1</th>\n",
       "      <td>AE225HZNREJ3VMBD34OY7FROMVFA</td>\n",
       "      <td>[0985260009, 0310729939]</td>\n",
       "      <td>1514238942</td>\n",
       "      <td>1451942784</td>\n",
       "      <td>2</td>\n",
       "    </tr>\n",
       "    <tr>\n",
       "      <th>2</th>\n",
       "      <td>AE225OD5SZXPS5MLN4AXQCMJH6OA</td>\n",
       "      <td>[0312274920, 1786811294, 1620408910, 1090879865]</td>\n",
       "      <td>B094ZN6FC7</td>\n",
       "      <td>1665012082</td>\n",
       "      <td>4</td>\n",
       "    </tr>\n",
       "  </tbody>\n",
       "</table>\n",
       "</div>"
      ],
      "text/plain": [
       "                        user_id  \\\n",
       "0  AE2247UG4CWYBQSHP45IFUP4I4NA   \n",
       "1  AE225HZNREJ3VMBD34OY7FROMVFA   \n",
       "2  AE225OD5SZXPS5MLN4AXQCMJH6OA   \n",
       "\n",
       "                                            history      target   target_ts  \\\n",
       "0                          [0785833870, 159186559X]  B089TV17J6  1630247174   \n",
       "1                          [0985260009, 0310729939]  1514238942  1451942784   \n",
       "2  [0312274920, 1786811294, 1620408910, 1090879865]  B094ZN6FC7  1665012082   \n",
       "\n",
       "   hist_len  \n",
       "0         2  \n",
       "1         2  \n",
       "2         4  "
      ]
     },
     "execution_count": 19,
     "metadata": {},
     "output_type": "execute_result"
    }
   ],
   "source": [
    "tail_df.head(3)"
   ]
  },
  {
   "cell_type": "markdown",
   "metadata": {},
   "source": [
    "#### 7.4 Sanity checks"
   ]
  },
  {
   "cell_type": "code",
   "execution_count": 20,
   "metadata": {},
   "outputs": [
    {
     "name": "stdout",
     "output_type": "stream",
     "text": [
      "Examples (k=3):\n",
      "- user=AE22236AFRRSMQIKGG7TPTB75QEA | hist_len=13 | history[:5]=['0441008534', '0441009239', '0375826688', 'B002KQ6BT6', '0765362643']... | target=0061058386\n",
      "- user=AE2224D3S4GTKVFJ5V7ZRQJ7P4FQ | hist_len=4 | history[:5]=['1476754454', 'B003KK5RR8', 'B002U3CBLQ', 'B01N5XZCTV']... | target=038575311X\n",
      "- user=AE2224IMTLGXRXJITJJOW5RSMW5Q | hist_len=3 | history[:5]=['1602397724', '006170301X', '1402775075']... | target=0316227706\n",
      "Examples (k=3):\n",
      "- user=AE2247UG4CWYBQSHP45IFUP4I4NA | hist_len=2 | history[:5]=['0785833870', '159186559X']... | target=B089TV17J6\n",
      "- user=AE225HZNREJ3VMBD34OY7FROMVFA | hist_len=2 | history[:5]=['0985260009', '0310729939']... | target=1514238942\n",
      "- user=AE225OD5SZXPS5MLN4AXQCMJH6OA | hist_len=4 | history[:5]=['0312274920', '1786811294', '1620408910', '1090879865']... | target=B094ZN6FC7\n"
     ]
    }
   ],
   "source": [
    "show_examples(c_loo_df, 3)\n",
    "show_examples(tail_df, 3)"
   ]
  },
  {
   "cell_type": "code",
   "execution_count": 22,
   "metadata": {},
   "outputs": [
    {
     "data": {
      "text/html": [
       "<div>\n",
       "<style scoped>\n",
       "    .dataframe tbody tr th:only-of-type {\n",
       "        vertical-align: middle;\n",
       "    }\n",
       "\n",
       "    .dataframe tbody tr th {\n",
       "        vertical-align: top;\n",
       "    }\n",
       "\n",
       "    .dataframe thead th {\n",
       "        text-align: right;\n",
       "    }\n",
       "</style>\n",
       "<table border=\"1\" class=\"dataframe\">\n",
       "  <thead>\n",
       "    <tr style=\"text-align: right;\">\n",
       "      <th></th>\n",
       "      <th>tail_fraction</th>\n",
       "      <th>freq_cutoff</th>\n",
       "      <th>tail_sequences</th>\n",
       "      <th>share_of_eval_%</th>\n",
       "    </tr>\n",
       "  </thead>\n",
       "  <tbody>\n",
       "    <tr>\n",
       "      <th>0</th>\n",
       "      <td>0.10</td>\n",
       "      <td>1</td>\n",
       "      <td>650081</td>\n",
       "      <td>27.272914</td>\n",
       "    </tr>\n",
       "    <tr>\n",
       "      <th>1</th>\n",
       "      <td>0.15</td>\n",
       "      <td>1</td>\n",
       "      <td>650081</td>\n",
       "      <td>27.272914</td>\n",
       "    </tr>\n",
       "    <tr>\n",
       "      <th>2</th>\n",
       "      <td>0.20</td>\n",
       "      <td>1</td>\n",
       "      <td>650081</td>\n",
       "      <td>27.272914</td>\n",
       "    </tr>\n",
       "    <tr>\n",
       "      <th>3</th>\n",
       "      <td>0.25</td>\n",
       "      <td>1</td>\n",
       "      <td>650081</td>\n",
       "      <td>27.272914</td>\n",
       "    </tr>\n",
       "    <tr>\n",
       "      <th>4</th>\n",
       "      <td>0.30</td>\n",
       "      <td>1</td>\n",
       "      <td>650081</td>\n",
       "      <td>27.272914</td>\n",
       "    </tr>\n",
       "  </tbody>\n",
       "</table>\n",
       "</div>"
      ],
      "text/plain": [
       "   tail_fraction  freq_cutoff  tail_sequences  share_of_eval_%\n",
       "0           0.10            1          650081        27.272914\n",
       "1           0.15            1          650081        27.272914\n",
       "2           0.20            1          650081        27.272914\n",
       "3           0.25            1          650081        27.272914\n",
       "4           0.30            1          650081        27.272914"
      ]
     },
     "metadata": {},
     "output_type": "display_data"
    }
   ],
   "source": [
    "c_fp = SEQ_DIR / \"c_loo_sequences.parquet\"\n",
    "# Load just the target column\n",
    "c_loo = pd.read_parquet(c_fp, columns=[\"target\"])\n",
    "# Approximation: target frequency inside C-LOO (sufficient for tail analysis)\n",
    "target_freq = c_loo[\"target\"].value_counts()\n",
    "tail_table = eval_tail(c_loo=c_loo, target_freq=target_freq)\n",
    "display(tail_table.sort_values(\"tail_fraction\"))"
   ]
  },
  {
   "cell_type": "markdown",
   "metadata": {},
   "source": [
    "### 8. Save the data"
   ]
  },
  {
   "cell_type": "code",
   "execution_count": 8,
   "metadata": {},
   "outputs": [],
   "source": [
    "items_df.to_parquet(ITEMS_OUT, index=False)\n",
    "inter_df.to_parquet(INTER_OUT, index=False)"
   ]
  }
 ],
 "metadata": {
  "kernelspec": {
   "display_name": "Thesis M4",
   "language": "python",
   "name": "thesis"
  },
  "language_info": {
   "codemirror_mode": {
    "name": "ipython",
    "version": 3
   },
   "file_extension": ".py",
   "mimetype": "text/x-python",
   "name": "python",
   "nbconvert_exporter": "python",
   "pygments_lexer": "ipython3",
   "version": "3.12.11"
  }
 },
 "nbformat": 4,
 "nbformat_minor": 4
}
