{
 "cells": [
  {
   "cell_type": "markdown",
   "metadata": {},
   "source": [
    "# Amazon Reviews 2023 Data Loading and Preprocessing\n",
    "\n",
    "This notebook loads and preprocesses the Amazon Books dataset for Semantic ID generation in the recommendation system.\n",
    "\n",
    "## Overview\n",
    "- Load Amazon Books reviews and metadata\n",
    "- Clean and filter the data\n",
    "- Prepare item descriptions for Semantic ID generation\n",
    "- Create user-item interaction matrix\n",
    "- Save processed datasets for next phase"
   ]
  },
  {
   "cell_type": "markdown",
   "metadata": {},
   "source": [
    "### 1. Import Libraries and Setup"
   ]
  },
  {
   "cell_type": "code",
   "execution_count": 36,
   "metadata": {},
   "outputs": [],
   "source": [
    "import warnings\n",
    "warnings.filterwarnings('ignore')\n",
    "import os, gzip, json, re\n",
    "from typing import Iterable, Dict, Any, Optional, List\n",
    "import pandas as pd\n",
    "import numpy as np\n",
    "from tqdm.notebook import tqdm\n",
    "import matplotlib.pyplot as plt\n",
    "from transformers import AutoTokenizer\n",
    "\n",
    "REVIEWS_PATH = \"data/raw/Books_reviews.jsonl.gz\"\n",
    "META_PATH    = \"data/raw/Books_meta.jsonl.gz\"\n",
    "\n",
    "OUT_ROOT = \"data/processed/books\"\n",
    "os.makedirs(OUT_ROOT, exist_ok=True)\n",
    "\n",
    "ITEMS_OUT = f\"{OUT_ROOT}/items.parquet\"\n",
    "INTER_OUT = f\"{OUT_ROOT}/interactions.parquet\""
   ]
  },
  {
   "cell_type": "code",
   "execution_count": 2,
   "metadata": {},
   "outputs": [],
   "source": [
    "def stream_jsonl_gz(path: str) -> Iterable[Dict[str, Any]]:\n",
    "    with gzip.open(path, 'rt', encoding='utf-8') as f:\n",
    "        for line in f:\n",
    "            line = line.strip()\n",
    "            if not line:\n",
    "                continue\n",
    "            try:\n",
    "                yield json.loads(line)\n",
    "            except json.JSONDecodeError:\n",
    "                continue\n",
    "\n",
    "def scrub(s: Optional[str]) -> str:\n",
    "    if not s:\n",
    "        return \"\"\n",
    "    return re.sub(r\"\\s+\", \" \", str(s)).strip()\n",
    "\n",
    "def to_text_list(x) -> List[str]:\n",
    "    if x is None:\n",
    "        return []\n",
    "    if isinstance(x, str):\n",
    "        return [x]\n",
    "    if isinstance(x, (list, tuple)):\n",
    "        return [str(e) for e in x if isinstance(e, (str, int, float))]\n",
    "    return []\n",
    "\n",
    "def get_item_id(obj: Dict[str, Any]) -> Optional[str]:\n",
    "    \"\"\"Prefer parent_asin; fall back to asin.\"\"\"\n",
    "    if obj.get(\"parent_asin\"):\n",
    "        return str(obj[\"parent_asin\"])\n",
    "    if obj.get(\"asin\"):\n",
    "        return str(obj[\"asin\"])\n",
    "    return None\n",
    "\n",
    "def unix_seconds(ts) -> Optional[int]:\n",
    "    if ts is None:\n",
    "        return None\n",
    "    try:\n",
    "        ts = int(ts)\n",
    "    except Exception:\n",
    "        return None\n",
    "    # Convert ms → s if needed\n",
    "    if ts > 10**12:\n",
    "        ts //= 1000\n",
    "    return int(ts)\n"
   ]
  },
  {
   "cell_type": "markdown",
   "metadata": {},
   "source": [
    "### 2. Load and Inspect Raw Data"
   ]
  },
  {
   "cell_type": "code",
   "execution_count": 5,
   "metadata": {},
   "outputs": [
    {
     "name": "stdout",
     "output_type": "stream",
     "text": [
      "REVIEWS (3 rows) keys:\n",
      "\n",
      "Row 1:\n",
      "  rating: 1.0\n",
      "  title: Not a watercolor book! Seems like copies imo.\n",
      "  text: It is definitely not a watercolor book.  The paper bucked completely.  The pages honestly appear to ...\n",
      "  images: [{'small_image_url': 'https://m.media-amazon.com/images/I/516HBU7LQoL._SL256_.jpg', 'medium_image_url': 'https://m.media-amazon.com/images/I/516HBU7LQoL._SL800_.jpg', 'large_image_url': 'https://m.media-amazon.com/images/I/516HBU7LQoL._SL1600_.jpg', 'attachment_type': 'IMAGE'}, {'small_image_url': 'https://m.media-amazon.com/images/I/71+XwcacMmL._SL256_.jpg', 'medium_image_url': 'https://m.media-amazon.com/images/I/71+XwcacMmL._SL800_.jpg', 'large_image_url': 'https://m.media-amazon.com/images/I/71+XwcacMmL._SL1600_.jpg', 'attachment_type': 'IMAGE'}, {'small_image_url': 'https://m.media-amazon.com/images/I/71RbTuvD1ZL._SL256_.jpg', 'medium_image_url': 'https://m.media-amazon.com/images/I/71RbTuvD1ZL._SL800_.jpg', 'large_image_url': 'https://m.media-amazon.com/images/I/71RbTuvD1ZL._SL1600_.jpg', 'attachment_type': 'IMAGE'}, {'small_image_url': 'https://m.media-amazon.com/images/I/71U63wdOeZL._SL256_.jpg', 'medium_image_url': 'https://m.media-amazon.com/images/I/71U63wdOeZL._SL800_.jpg', 'large_image_url': 'https://m.media-amazon.com/images/I/71U63wdOeZL._SL1600_.jpg', 'attachment_type': 'IMAGE'}, {'small_image_url': 'https://m.media-amazon.com/images/I/71WFEDyKcKL._SL256_.jpg', 'medium_image_url': 'https://m.media-amazon.com/images/I/71WFEDyKcKL._SL800_.jpg', 'large_image_url': 'https://m.media-amazon.com/images/I/71WFEDyKcKL._SL1600_.jpg', 'attachment_type': 'IMAGE'}, {'small_image_url': 'https://m.media-amazon.com/images/I/8109NwjpHKL._SL256_.jpg', 'medium_image_url': 'https://m.media-amazon.com/images/I/8109NwjpHKL._SL800_.jpg', 'large_image_url': 'https://m.media-amazon.com/images/I/8109NwjpHKL._SL1600_.jpg', 'attachment_type': 'IMAGE'}, {'small_image_url': 'https://m.media-amazon.com/images/I/814gxfh8wcL._SL256_.jpg', 'medium_image_url': 'https://m.media-amazon.com/images/I/814gxfh8wcL._SL800_.jpg', 'large_image_url': 'https://m.media-amazon.com/images/I/814gxfh8wcL._SL1600_.jpg', 'attachment_type': 'IMAGE'}, {'small_image_url': 'https://m.media-amazon.com/images/I/81HC0vKRC2L._SL256_.jpg', 'medium_image_url': 'https://m.media-amazon.com/images/I/81HC0vKRC2L._SL800_.jpg', 'large_image_url': 'https://m.media-amazon.com/images/I/81HC0vKRC2L._SL1600_.jpg', 'attachment_type': 'IMAGE'}, {'small_image_url': 'https://m.media-amazon.com/images/I/81Nx6BnRLxL._SL256_.jpg', 'medium_image_url': 'https://m.media-amazon.com/images/I/81Nx6BnRLxL._SL800_.jpg', 'large_image_url': 'https://m.media-amazon.com/images/I/81Nx6BnRLxL._SL1600_.jpg', 'attachment_type': 'IMAGE'}, {'small_image_url': 'https://m.media-amazon.com/images/I/81QQMwBcVPL._SL256_.jpg', 'medium_image_url': 'https://m.media-amazon.com/images/I/81QQMwBcVPL._SL800_.jpg', 'large_image_url': 'https://m.media-amazon.com/images/I/81QQMwBcVPL._SL1600_.jpg', 'attachment_type': 'IMAGE'}, {'small_image_url': 'https://m.media-amazon.com/images/I/81fgT3R3OwL._SL256_.jpg', 'medium_image_url': 'https://m.media-amazon.com/images/I/81fgT3R3OwL._SL800_.jpg', 'large_image_url': 'https://m.media-amazon.com/images/I/81fgT3R3OwL._SL1600_.jpg', 'attachment_type': 'IMAGE'}, {'small_image_url': 'https://m.media-amazon.com/images/I/81mfzny0I5L._SL256_.jpg', 'medium_image_url': 'https://m.media-amazon.com/images/I/81mfzny0I5L._SL800_.jpg', 'large_image_url': 'https://m.media-amazon.com/images/I/81mfzny0I5L._SL1600_.jpg', 'attachment_type': 'IMAGE'}, {'small_image_url': 'https://m.media-amazon.com/images/I/81nir7bf91L._SL256_.jpg', 'medium_image_url': 'https://m.media-amazon.com/images/I/81nir7bf91L._SL800_.jpg', 'large_image_url': 'https://m.media-amazon.com/images/I/81nir7bf91L._SL1600_.jpg', 'attachment_type': 'IMAGE'}, {'small_image_url': 'https://m.media-amazon.com/images/I/81yLUo6ZL3L._SL256_.jpg', 'medium_image_url': 'https://m.media-amazon.com/images/I/81yLUo6ZL3L._SL800_.jpg', 'large_image_url': 'https://m.media-amazon.com/images/I/81yLUo6ZL3L._SL1600_.jpg', 'attachment_type': 'IMAGE'}, {'small_image_url': 'https://m.media-amazon.com/images/I/81zh9h5RwkL._SL256_.jpg', 'medium_image_url': 'https://m.media-amazon.com/images/I/81zh9h5RwkL._SL800_.jpg', 'large_image_url': 'https://m.media-amazon.com/images/I/81zh9h5RwkL._SL1600_.jpg', 'attachment_type': 'IMAGE'}, {'small_image_url': 'https://m.media-amazon.com/images/I/91yfcpFlEqL._SL256_.jpg', 'medium_image_url': 'https://m.media-amazon.com/images/I/91yfcpFlEqL._SL800_.jpg', 'large_image_url': 'https://m.media-amazon.com/images/I/91yfcpFlEqL._SL1600_.jpg', 'attachment_type': 'IMAGE'}]\n",
      "  asin: B09BGPFTDB\n",
      "  parent_asin: B09BGPFTDB\n",
      "  user_id: AFKZENTNBQ7A7V7UXW5JJI6UGRYQ\n",
      "  timestamp: 1642399598485\n",
      "  helpful_vote: 0\n",
      "  verified_purchase: True\n",
      "\n",
      "Row 2:\n",
      "  rating: 5.0\n",
      "  title: Updated: after 1st arrived damaged this one is perfect\n",
      "  text: Updated: after first book arrived very damaged the replacement arrived in perfect condition.\n",
      "  images: []\n",
      "  asin: 0593235657\n",
      "  parent_asin: 0593235657\n",
      "  user_id: AFKZENTNBQ7A7V7UXW5JJI6UGRYQ\n",
      "  timestamp: 1640629604904\n",
      "  helpful_vote: 1\n",
      "  verified_purchase: True\n",
      "\n",
      "Row 3:\n",
      "  rating: 5.0\n",
      "  title: Excellent! I love it!\n",
      "  text: I bought it for the bag on the front so it paid for itself with that imo.  I haven’t started anythin...\n",
      "  images: []\n",
      "  asin: 1782490671\n",
      "  parent_asin: 1782490671\n",
      "  user_id: AFKZENTNBQ7A7V7UXW5JJI6UGRYQ\n",
      "  timestamp: 1640383495102\n",
      "  helpful_vote: 0\n",
      "  verified_purchase: True\n",
      "\n",
      "\n",
      "META (3 rows) keys:\n",
      "\n",
      "Row 1:\n",
      "  main_category: Books\n",
      "  title: Chaucer\n",
      "  subtitle: Hardcover – Import, January 1, 2004\n",
      "  author: {'avatar': 'https://m.media-amazon.com/images/I/21Je2zja9pL._SY600_.jpg', 'name': 'Peter Ackroyd', 'about': ['Peter Ackroyd, (born 5 October 1949) is an English biographer, novelist and critic with a particular interest in the history and culture of London. For his novels about English history and culture and his biographies of, among others, William Blake, Charles Dickens, T. S. Eliot and Sir Thomas More, he won the Somerset Maugham Award and two Whitbread Awards. He is noted for the volume of work he has produced, the range of styles therein, his skill at assuming different voices and the depth of his research.', 'He was elected a fellow of the Royal Society of Literature in 1984 and appointed a Commander of the Order of the British Empire in 2003.', 'Bio from Wikipedia, the free encyclopedia.']}\n",
      "  average_rating: 4.5\n",
      "  rating_number: 29\n",
      "  features: []\n",
      "  description: []\n",
      "  price: 8.23\n",
      "  images: [{'large': 'https://m.media-amazon.com/images/I/41X61VPJYKL._SX334_BO1,204,203,200_.jpg', 'variant': 'MAIN'}]\n",
      "  videos: []\n",
      "  store: Peter Ackroyd (Author)\n",
      "  categories: ['Books', 'Literature & Fiction', 'History & Criticism']\n",
      "  details: {'Publisher': 'Chatto & Windus; First Edition (January 1, 2004)', 'Language': 'English', 'Hardcover': '196 pages', 'ISBN 10': '0701169850', 'ISBN 13': '978-0701169855', 'Item Weight': '10.1 ounces', 'Dimensions': '5.39 x 0.71 x 7.48 inches'}\n",
      "  parent_asin: 0701169850\n",
      "  bought_together: None\n",
      "\n",
      "Row 2:\n",
      "  main_category: Books\n",
      "  title: Notes from a Kidwatcher\n",
      "  subtitle: First Edition\n",
      "  author: {'avatar': 'https://m.media-amazon.com/images/I/01Kv-W2ysOL._SY600_.png', 'name': 'Yetta M. Goodman', 'about': ['Discover more of the author’s books, see similar authors, read author blogs and more']}\n",
      "  average_rating: 5.0\n",
      "  rating_number: 1\n",
      "  features: [\"Contains 23 selected articles by this influential writer, researcher, educator, and speaker. They're grouped around six major themes inherent in teacher education: culture and community; miscue analysis, reading strategies and comprehension; print awareness and the roots of literacy; the writing process; kidwatching; and whole language theory. No index. Annotation c. by Book News, Inc., Portland, Or.\"]\n",
      "  description: ['About the Author', \"SANDRA WILDE, Ph.D., is widely recognized for her expertise in developmental spelling and her advocacy of holistic approaches to spelling and phonics. She is Professor of Curriculum and Instruction at Portland State University in Oregon. She is best known for her work in invented spelling, phonics and miscue analysis. She specializes in showing teachers how kids' invented spellings and miscues can help us work with them in more sophisticated and learner-centered ways. Looking at what kids do as they read and write is at the heart of Sandra's presentations and workshops. She can do lively keynote presentations that highlight the interesting things that we can learn by paying close attention to students' invented spellings and miscues, as well as workshops of varying lengths that focus on student-centered teaching of spelling and phonics. She has recently begun offering workshops that focus on understanding students' miscues as a guide to appropriate instruction, p\"]\n",
      "  price: 3.52\n",
      "  images: [{'large': 'https://m.media-amazon.com/images/I/41bfTRxpMML._SX218_BO1,204,203,200_QL40_FMwebp_.jpg', 'variant': 'MAIN'}]\n",
      "  videos: []\n",
      "  store: Sandra Wilde (Editor)\n",
      "  categories: ['Books', 'Reference', 'Words, Language & Grammar']\n",
      "  details: {'Publisher': 'Heinemann; First Edition (May 20, 1996)', 'Language': 'English', 'Paperback': '316 pages', 'ISBN 10': '0435088688', 'ISBN 13': '978-0435088682', 'Item Weight': '1.05 pounds', 'Dimensions': '6.03 x 0.67 x 8.95 inches'}\n",
      "  parent_asin: 0435088688\n",
      "  bought_together: None\n",
      "\n",
      "Row 3:\n",
      "  main_category: Books\n",
      "  title: Service: A Navy SEAL at War\n",
      "  subtitle: Hardcover – May 8, 2012\n",
      "  author: {'avatar': 'https://m.media-amazon.com/images/I/31rBoNEHiFL._SY600_.jpg', 'name': 'Marcus Luttrell', 'about': ['Petty Officer First Class Marcus Luttrell was born in Huntsville, Texas in 1975.']}\n",
      "  average_rating: 4.7\n",
      "  rating_number: 3421\n",
      "  features: ['Marcus Luttrell, author of the #1 bestseller', 'Lone Survivor', ', share war stories about true American heroism from himself and other soldiers who bravely fought alongside him.', \"Navy SEAL Marcus Luttrell returned from his star-crossed mission in Afghanistan with his bones shattered and his heart broken. So many had given their lives to save him -- and he would have readily done the same for them. As he recuperated, he wondered why he and others, from America's founding to today, had been willing to sacrifice everything-including themselves-for the sake of family, nation, and freedom.  In\", 'Service', \", we follow Marcus Luttrell to Iraq, where he returns to the battlefield as a member of SEAL Team 5 to help take on the most dangerous city in the world: Ramadi, the capital of war-torn Al Anbar Province. There, in six months of high-intensity urban combat, he would be part of what has been called the greatest victory in the history of U.S. Special Operations forces. We also return to Afghanistan and Operation Redwing, where Luttrell offers powerful new details about his miraculous rescue. Throughout, he reflects on what it really means to take on a higher calling, about the men he's seen lose their lives for their country, and the legacy of those who came and bled before.  A thrilling war story,\", 'Service', 'is also a profoundly moving tribute to the warrior brotherhood, to the belief that nobody goes it alone, and no one will be left behind.']\n",
      "  description: ['Review', 'Praise for SERVICE\"An action-packed...reflective saga of contemporary military service.\"―', 'Kirkus Reviews', '\"Marcus Luttrell, with James D. Hornfischer, has written another emotional story that the reader will not want to put down.\"―', 'American Thinker', 'About the Author', 'Marcus Luttrell', 'became a combat-trained Navy SEAL in 2002 and served in many dangerous Special Operations assignments around the world. He is the author of the', 'New York Times', 'bestseller', 'Lone Survivor', ', and is a popular corporate and organizational speaker. He lives near Houston, Texas.\\xa0James D. Hornfischer\\xa0is the author of four bestselling books on the U.S. Navy in World War II,', 'The Fleet at Flood', 'Tide', ',', \"Neptune's\", 'Inferno, Ship of Ghosts,', 'and', 'The Last Stand of the Tin Can Sailors,', 'winner of the Samuel Eliot Morison Award. He lives in Austin, Texas.']\n",
      "  price: 17.17\n",
      "  images: [{'large': 'https://m.media-amazon.com/images/I/41YQHDWRyGL._SX321_BO1,204,203,200_.jpg', 'variant': 'MAIN'}]\n",
      "  videos: []\n",
      "  store: Marcus Luttrell (Author),  James D. Hornfischer\n",
      "  categories: ['Books', 'Biographies & Memoirs', 'Leaders & Notable People']\n",
      "  details: {'Publisher': 'Little, Brown and Company; 1st edition (May 8, 2012)', 'Language': 'English', 'Hardcover': '384 pages', 'ISBN 10': '9780316185363', 'ISBN 13': '978-0316185363', 'Item Weight': '1.4 pounds', 'Dimensions': '6.25 x 1.55 x 9.55 inches'}\n",
      "  parent_asin: 0316185361\n",
      "  bought_together: None\n"
     ]
    }
   ],
   "source": [
    "# Reviews preview\n",
    "r_samp = []\n",
    "for i, obj in enumerate(stream_jsonl_gz(REVIEWS_PATH)):\n",
    "    r_samp.append(obj)\n",
    "    if i >= 2: break\n",
    "\n",
    "print(\"REVIEWS (3 rows) keys:\")\n",
    "for j, o in enumerate(r_samp, 1):\n",
    "    print(f\"\\nRow {j}:\")\n",
    "    for k, v in o.items():\n",
    "        if isinstance(v, str) and len(v) > 100:\n",
    "            print(f\"  {k}: {v[:100]}...\")\n",
    "        else:\n",
    "            print(f\"  {k}: {v}\")\n",
    "\n",
    "# Metadata preview\n",
    "m_samp = []\n",
    "for i, obj in enumerate(stream_jsonl_gz(META_PATH)):\n",
    "    m_samp.append(obj)\n",
    "    if i >= 2: break\n",
    "\n",
    "print(\"\\n\\nMETA (3 rows) keys:\")\n",
    "for j, o in enumerate(m_samp, 1):\n",
    "    print(f\"\\nRow {j}:\")\n",
    "    for k, v in o.items():\n",
    "        if isinstance(v, str) and len(v) > 100:\n",
    "            print(f\"  {k}: {v[:100]}...\")\n",
    "        else:\n",
    "            print(f\"  {k}: {v}\")\n"
   ]
  },
  {
   "cell_type": "markdown",
   "metadata": {},
   "source": [
    "### 3. Check Coverage and Select Join Key"
   ]
  },
  {
   "cell_type": "code",
   "execution_count": 7,
   "metadata": {},
   "outputs": [
    {
     "name": "stdout",
     "output_type": "stream",
     "text": [
      "Meta parent_asin unique: 4,448,181\n",
      "Reviews parent_asin unique: 4,446,065 | asin unique: 4,493,336\n",
      "Coverage if we use reviews parent_asin → meta parent_asin: 1.000\n",
      "Coverage if we use reviews asin       → meta parent_asin: 0.985\n"
     ]
    }
   ],
   "source": [
    "MAX_SCAN = None  # adjust up if fast, or set to None for full scan\n",
    "\n",
    "# collect IDs from meta (parent_asin only)\n",
    "meta_parent = set()\n",
    "for i, obj in enumerate(stream_jsonl_gz(META_PATH)):\n",
    "    if obj.get(\"parent_asin\"):\n",
    "        meta_parent.add(str(obj[\"parent_asin\"]))\n",
    "    if MAX_SCAN and i+1 >= MAX_SCAN: break\n",
    "\n",
    "# collect IDs from reviews (both fields)\n",
    "rev_parent, rev_asin = set(), set()\n",
    "for i, obj in enumerate(stream_jsonl_gz(REVIEWS_PATH)):\n",
    "    if obj.get(\"parent_asin\"):\n",
    "        rev_parent.add(str(obj[\"parent_asin\"]))\n",
    "    if obj.get(\"asin\"):\n",
    "        rev_asin.add(str(obj[\"asin\"]))\n",
    "    if MAX_SCAN and i+1 >= MAX_SCAN: break\n",
    "\n",
    "print(f\"Meta parent_asin unique: {len(meta_parent):,}\")\n",
    "print(f\"Reviews parent_asin unique: {len(rev_parent):,} | asin unique: {len(rev_asin):,}\")\n",
    "\n",
    "cov_parent = len(rev_parent & meta_parent) / max(len(rev_parent), 1)\n",
    "cov_asin   = len(rev_asin & meta_parent) / max(len(rev_asin), 1)\n",
    "print(f\"Coverage if we use reviews parent_asin → meta parent_asin: {cov_parent:.3f}\")\n",
    "print(f\"Coverage if we use reviews asin       → meta parent_asin: {cov_asin:.3f}\")"
   ]
  },
  {
   "cell_type": "markdown",
   "metadata": {},
   "source": [
    "### 4. Build Item Descriptions"
   ]
  },
  {
   "cell_type": "code",
   "execution_count": 9,
   "metadata": {},
   "outputs": [
    {
     "name": "stdout",
     "output_type": "stream",
     "text": [
      "\n",
      "ITEM 0701169850 | len=955\n",
      "Chaucer Hardcover – Import, January 1, 2004 Books Peter Ackroyd (Author) Chatto & Windus; First Edition (January 1, 2004) English 196 pages 0701169850 978-0701169855 10.1 ounces 5.39 x 0.71 x 7.48 inches Books Literature & Fiction History & Criticism Peter Ackroyd Peter Ackroyd, (born 5 October 1949 ...\n",
      "\n",
      "ITEM 0435088688 | len=1730\n",
      "About the Author SANDRA WILDE, Ph.D., is widely recognized for her expertise in developmental spelling and her advocacy of holistic approaches to spelling and phonics. She is Professor of Curriculum and Instruction at Portland State University in Oregon. She is best known for her work in invented sp ...\n",
      "\n",
      "ITEM 0316185361 | len=2665\n",
      "Review Praise for SERVICE\"An action-packed...reflective saga of contemporary military service.\"― Kirkus Reviews \"Marcus Luttrell, with James D. Hornfischer, has written another emotional story that the reader will not want to put down.\"― American Thinker About the Author Marcus Luttrell became a com ...\n",
      "\n",
      "ITEM 0545425573 | len=990\n",
      "Monstrous Stories #4: The Day the Mice Stood Still Paperback – October 29, 2013 Books Dr. Roach (Author) Funny, light-hearted monster stories that are perfect for young readers, brought to us by the esteemed Dr. Roach.Jilly can't believe what she's seeing when she wakes up one seemingly normal morni ...\n",
      "\n",
      "ITEM B00KFOP3RG | len=1101\n",
      "Parker & Knight Kindle Edition Buy a Kindle Remington Kane (Author) Format: Kindle Edition From REMINGTON KANE, the author of The Taken! & Tanner SeriesPARKER & KNIGHT When beautiful, nineteen-year-old Tiffany Grace is found murdered inside the house next door, Detectives Rick Parker and Joanna Knig ...\n"
     ]
    }
   ],
   "source": [
    "def build_description(meta: Dict[str, Any]) -> str:\n",
    "    \"\"\"\n",
    "    Build a rich description:\n",
    "    - prefer 'description' if present (list or str)\n",
    "    - fall back to title, subtitle, main_category, store, features, details (values),\n",
    "      categories, author.name/about\n",
    "    \"\"\"\n",
    "    parts = []\n",
    "\n",
    "    # 1) primary description\n",
    "    desc = meta.get('description', None)\n",
    "    desc_list = []\n",
    "    if isinstance(desc, list):\n",
    "        desc_list = [scrub(d) for d in desc if scrub(d)]\n",
    "    elif isinstance(desc, str):\n",
    "        if scrub(desc):\n",
    "            desc_list = [scrub(desc)]\n",
    "    if desc_list:\n",
    "        parts.append(\" \".join(desc_list))\n",
    "\n",
    "    # 2) fallbacks\n",
    "    for k in ['title', 'subtitle', 'main_category', 'store']:\n",
    "        s = scrub(meta.get(k))\n",
    "        if s:\n",
    "            parts.append(s)\n",
    "\n",
    "    parts.extend([scrub(x) for x in to_text_list(meta.get('features')) if scrub(x)])\n",
    "\n",
    "    det = meta.get('details')\n",
    "    if isinstance(det, dict):\n",
    "        parts.extend([scrub(v) for v in det.values() if scrub(v)])\n",
    "\n",
    "    parts.extend([scrub(x) for x in to_text_list(meta.get('categories')) if scrub(x)])\n",
    "\n",
    "    auth = meta.get('author')\n",
    "    if isinstance(auth, dict):\n",
    "        if auth.get('name'):\n",
    "            parts.append(scrub(auth['name']))\n",
    "        parts.extend([scrub(x) for x in to_text_list(auth.get('about')) if scrub(x)])\n",
    "\n",
    "    text = \" \".join([p for p in parts if p])\n",
    "    if len(text) < 40 and desc_list:\n",
    "        text = \" \".join(desc_list)\n",
    "    return text[:4000]\n",
    "\n",
    "# Try it on 5 metadata samples to see the effect\n",
    "for i, obj in enumerate(stream_jsonl_gz(META_PATH)):\n",
    "    item_id = get_item_id(obj)\n",
    "    if not item_id: \n",
    "        continue\n",
    "    built = build_description(obj)\n",
    "    print(f\"\\nITEM {item_id} | len={len(built)}\")\n",
    "    print(built[:300], \"...\" if len(built) > 300 else \"\")\n",
    "    if i >= 4: break\n"
   ]
  },
  {
   "cell_type": "code",
   "execution_count": 11,
   "metadata": {},
   "outputs": [
    {
     "data": {
      "application/vnd.jupyter.widget-view+json": {
       "model_id": "a7d1511f4b2444b4802359fb5b7119b6",
       "version_major": 2,
       "version_minor": 0
      },
      "text/plain": [
       "meta→items: 0it [00:00, ?it/s]"
      ]
     },
     "metadata": {},
     "output_type": "display_data"
    },
    {
     "name": "stdout",
     "output_type": "stream",
     "text": [
      "\n",
      "[items] total scanned: 4,448,181 | kept: 4,426,720\n",
      "        native: 1,840,305 | fallback: 2,586,415\n",
      "count    4.426720e+06\n",
      "mean     1.884863e+03\n",
      "std      1.329776e+03\n",
      "min      8.000000e+01\n",
      "25%      7.020000e+02\n",
      "50%      1.596000e+03\n",
      "75%      3.026000e+03\n",
      "max      4.000000e+03\n",
      "Name: desc_len, dtype: float64\n",
      "desc_source\n",
      "fallback    0.584273\n",
      "native      0.415727\n",
      "Name: proportion, dtype: float64\n"
     ]
    }
   ],
   "source": [
    "# ====== params that i won't test ======\n",
    "MIN_DESC_LEN = 80           \n",
    "LAST_CHANCE_TITLE_MIN = 20  # title-only fallback length\n",
    "KEEP_ONLY_NATIVE_DESC = False \n",
    "\n",
    "# ---------- ITEMS ----------\n",
    "rows = []\n",
    "seen_items = set()\n",
    "n_total = n_kept = n_fallback = n_native = 0\n",
    "\n",
    "for i, obj in enumerate(tqdm(stream_jsonl_gz(META_PATH), desc=\"meta→items\")):\n",
    "    n_total += 1\n",
    "    item_id = get_item_id(obj)\n",
    "    if not item_id or item_id in seen_items:\n",
    "        continue\n",
    "\n",
    "    # detect whether native description exists\n",
    "    native_desc_exists = bool(obj.get('description')) and len(to_text_list(obj.get('description'))) > 0\n",
    "\n",
    "    if KEEP_ONLY_NATIVE_DESC and not native_desc_exists:\n",
    "        continue\n",
    "\n",
    "    text = build_description(obj)  # native + fallbacks concatenated\n",
    "\n",
    "    if len(text) < MIN_DESC_LEN:\n",
    "        # last-chance: title only if long enough\n",
    "        title = scrub(obj.get('title', ''))\n",
    "        if len(title) >= LAST_CHANCE_TITLE_MIN:\n",
    "            text = title\n",
    "\n",
    "    if len(text) < MIN_DESC_LEN:\n",
    "        continue\n",
    "\n",
    "    desc_source = 'native' if native_desc_exists else 'fallback'\n",
    "    desc_len = len(text)\n",
    "\n",
    "    seen_items.add(item_id)\n",
    "    n_kept += 1\n",
    "    if desc_source == 'native': n_native += 1\n",
    "    else: n_fallback += 1\n",
    "\n",
    "    rows.append((item_id, text, desc_source, desc_len))\n",
    "\n",
    "items_df = pd.DataFrame(rows, columns=[\"item_id\", \"description\", \"desc_source\", \"desc_len\"])\n",
    "\n",
    "print(f\"\\n[items] total scanned: {n_total:,} | kept: {n_kept:,}\")\n",
    "print(f\"        native: {n_native:,} | fallback: {n_fallback:,}\")\n",
    "print(items_df['desc_len'].describe())\n",
    "print(items_df['desc_source'].value_counts(normalize=True))"
   ]
  },
  {
   "cell_type": "markdown",
   "metadata": {},
   "source": [
    "### 5. Build User–Item Interactions"
   ]
  },
  {
   "cell_type": "code",
   "execution_count": 13,
   "metadata": {},
   "outputs": [
    {
     "data": {
      "application/vnd.jupyter.widget-view+json": {
       "model_id": "df557f35df79481387e270bd77b2a774",
       "version_major": 2,
       "version_minor": 0
      },
      "text/plain": [
       "reviews→interactions: 0it [00:00, ?it/s]"
      ]
     },
     "metadata": {},
     "output_type": "display_data"
    },
    {
     "name": "stdout",
     "output_type": "stream",
     "text": [
      "\n",
      "[interactions] total scanned: 29,475,453 | kept rows: 29,106,706\n",
      "users: 10287207 | items: 4424610\n",
      "label_pos\n",
      "1.0    0.84899\n",
      "0.0    0.15101\n",
      "Name: proportion, dtype: float64\n"
     ]
    }
   ],
   "source": [
    "# ---------- INTERACTIONS ----------\n",
    "POS_THRESHOLD = 4.0         # binarize label_pos = (rating >= POS_THRESHOLD)\n",
    "\n",
    "valid_items = set(items_df['item_id'].tolist())\n",
    "rows = []\n",
    "n_total = n_kept = 0\n",
    "\n",
    "for i, obj in enumerate(tqdm(stream_jsonl_gz(REVIEWS_PATH), desc=\"reviews→interactions\")):\n",
    "    n_total += 1\n",
    "    user_id = obj.get('user_id') or obj.get('reviewerID') or obj.get('customer_id')\n",
    "    item_id = get_item_id(obj)\n",
    "    if not user_id or not item_id:\n",
    "        continue\n",
    "    if item_id not in valid_items:\n",
    "        continue\n",
    "\n",
    "    ts = obj.get('timestamp') or obj.get('unixReviewTime') or obj.get('review_time') or obj.get('reviewTime')\n",
    "    ts = unix_seconds(ts)\n",
    "    if ts is None:\n",
    "        continue\n",
    "\n",
    "    rating = obj.get('rating') or obj.get('overall') or obj.get('star_rating')\n",
    "    try:\n",
    "        rating = float(rating)\n",
    "    except Exception:\n",
    "        continue\n",
    "\n",
    "    label_pos = 1.0 if rating >= POS_THRESHOLD else 0.0\n",
    "\n",
    "    rows.append((str(user_id), str(item_id), float(rating), float(label_pos), int(ts)))\n",
    "    n_kept += 1\n",
    "\n",
    "inter_df = pd.DataFrame(rows, columns=[\"user_id\",\"item_id\",\"rating\",\"label_pos\",\"timestamp\"])\n",
    "\n",
    "# Keep ALL rows (pos+neg). We'll filter to positives only inside the training loader for BPR.\n",
    "# But dedupe to earliest per (user,item) to avoid repeated interactions biasing:\n",
    "inter_df.sort_values(\"timestamp\", inplace=True)\n",
    "inter_df = inter_df.drop_duplicates(subset=[\"user_id\",\"item_id\"], keep=\"first\")\n",
    "\n",
    "print(f\"\\n[interactions] total scanned: {n_total:,} | kept rows: {len(inter_df):,}\")\n",
    "print(\"users:\", inter_df['user_id'].nunique(), \"| items:\", inter_df['item_id'].nunique())\n",
    "print(inter_df['label_pos'].value_counts(normalize=True))"
   ]
  },
  {
   "cell_type": "markdown",
   "metadata": {},
   "source": [
    "### 6. Quick EDA"
   ]
  },
  {
   "cell_type": "code",
   "execution_count": 39,
   "metadata": {},
   "outputs": [
    {
     "name": "stdout",
     "output_type": "stream",
     "text": [
      "Items:\n"
     ]
    },
    {
     "data": {
      "text/html": [
       "<div>\n",
       "<style scoped>\n",
       "    .dataframe tbody tr th:only-of-type {\n",
       "        vertical-align: middle;\n",
       "    }\n",
       "\n",
       "    .dataframe tbody tr th {\n",
       "        vertical-align: top;\n",
       "    }\n",
       "\n",
       "    .dataframe thead th {\n",
       "        text-align: right;\n",
       "    }\n",
       "</style>\n",
       "<table border=\"1\" class=\"dataframe\">\n",
       "  <thead>\n",
       "    <tr style=\"text-align: right;\">\n",
       "      <th></th>\n",
       "      <th>item_id</th>\n",
       "      <th>description</th>\n",
       "      <th>desc_source</th>\n",
       "      <th>desc_len</th>\n",
       "    </tr>\n",
       "  </thead>\n",
       "  <tbody>\n",
       "    <tr>\n",
       "      <th>0</th>\n",
       "      <td>0701169850</td>\n",
       "      <td>Chaucer Hardcover – Import, January 1, 2004 Bo...</td>\n",
       "      <td>fallback</td>\n",
       "      <td>955</td>\n",
       "    </tr>\n",
       "    <tr>\n",
       "      <th>1</th>\n",
       "      <td>0435088688</td>\n",
       "      <td>About the Author SANDRA WILDE, Ph.D., is widel...</td>\n",
       "      <td>native</td>\n",
       "      <td>1730</td>\n",
       "    </tr>\n",
       "  </tbody>\n",
       "</table>\n",
       "</div>"
      ],
      "text/plain": [
       "      item_id                                        description desc_source  \\\n",
       "0  0701169850  Chaucer Hardcover – Import, January 1, 2004 Bo...    fallback   \n",
       "1  0435088688  About the Author SANDRA WILDE, Ph.D., is widel...      native   \n",
       "\n",
       "   desc_len  \n",
       "0       955  \n",
       "1      1730  "
      ]
     },
     "metadata": {},
     "output_type": "display_data"
    },
    {
     "name": "stdout",
     "output_type": "stream",
     "text": [
      "\n",
      "Interactions:\n"
     ]
    },
    {
     "data": {
      "text/html": [
       "<div>\n",
       "<style scoped>\n",
       "    .dataframe tbody tr th:only-of-type {\n",
       "        vertical-align: middle;\n",
       "    }\n",
       "\n",
       "    .dataframe tbody tr th {\n",
       "        vertical-align: top;\n",
       "    }\n",
       "\n",
       "    .dataframe thead th {\n",
       "        text-align: right;\n",
       "    }\n",
       "</style>\n",
       "<table border=\"1\" class=\"dataframe\">\n",
       "  <thead>\n",
       "    <tr style=\"text-align: right;\">\n",
       "      <th></th>\n",
       "      <th>user_id</th>\n",
       "      <th>item_id</th>\n",
       "      <th>rating</th>\n",
       "      <th>label_pos</th>\n",
       "      <th>timestamp</th>\n",
       "    </tr>\n",
       "  </thead>\n",
       "  <tbody>\n",
       "    <tr>\n",
       "      <th>11988069</th>\n",
       "      <td>AECPR4ROUNWGRETSG3TUGIHFUQCA</td>\n",
       "      <td>0684849550</td>\n",
       "      <td>2.0</td>\n",
       "      <td>0.0</td>\n",
       "      <td>1000000079</td>\n",
       "    </tr>\n",
       "    <tr>\n",
       "      <th>20050093</th>\n",
       "      <td>AFIZD4DTRHHKRRKLGQBR3GYZ2L4A</td>\n",
       "      <td>0761117199</td>\n",
       "      <td>5.0</td>\n",
       "      <td>1.0</td>\n",
       "      <td>1000000167</td>\n",
       "    </tr>\n",
       "  </tbody>\n",
       "</table>\n",
       "</div>"
      ],
      "text/plain": [
       "                               user_id     item_id  rating  label_pos  \\\n",
       "11988069  AECPR4ROUNWGRETSG3TUGIHFUQCA  0684849550     2.0        0.0   \n",
       "20050093  AFIZD4DTRHHKRRKLGQBR3GYZ2L4A  0761117199     5.0        1.0   \n",
       "\n",
       "           timestamp  \n",
       "11988069  1000000079  \n",
       "20050093  1000000167  "
      ]
     },
     "metadata": {},
     "output_type": "display_data"
    }
   ],
   "source": [
    "print(\"Items:\")\n",
    "display(items_df.head(2))\n",
    "print(\"\\nInteractions:\")\n",
    "display(inter_df.head(2))"
   ]
  },
  {
   "cell_type": "code",
   "execution_count": 40,
   "metadata": {},
   "outputs": [
    {
     "name": "stdout",
     "output_type": "stream",
     "text": [
      "<class 'pandas.core.frame.DataFrame'>\n",
      "RangeIndex: 4426720 entries, 0 to 4426719\n",
      "Data columns (total 4 columns):\n",
      " #   Column       Dtype \n",
      "---  ------       ----- \n",
      " 0   item_id      object\n",
      " 1   description  object\n",
      " 2   desc_source  object\n",
      " 3   desc_len     int64 \n",
      "dtypes: int64(1), object(3)\n",
      "memory usage: 135.1+ MB\n"
     ]
    }
   ],
   "source": [
    "items_df.info()"
   ]
  },
  {
   "cell_type": "code",
   "execution_count": 41,
   "metadata": {},
   "outputs": [
    {
     "name": "stdout",
     "output_type": "stream",
     "text": [
      "<class 'pandas.core.frame.DataFrame'>\n",
      "Index: 29106706 entries, 11988069 to 29286157\n",
      "Data columns (total 5 columns):\n",
      " #   Column     Dtype  \n",
      "---  ------     -----  \n",
      " 0   user_id    object \n",
      " 1   item_id    object \n",
      " 2   rating     float64\n",
      " 3   label_pos  float64\n",
      " 4   timestamp  int64  \n",
      "dtypes: float64(2), int64(1), object(2)\n",
      "memory usage: 1.3+ GB\n"
     ]
    }
   ],
   "source": [
    "inter_df.info()"
   ]
  },
  {
   "cell_type": "code",
   "execution_count": 51,
   "metadata": {},
   "outputs": [
    {
     "data": {
      "image/png": "[encoded data removed]",
      "text/plain": [
       "<Figure size 600x400 with 1 Axes>"
      ]
     },
     "metadata": {},
     "output_type": "display_data"
    }
   ],
   "source": [
    "# ratings hist\n",
    "\n",
    "plt.figure(figsize=(6,4))\n",
    "inter_df['rating'].hist(bins=[0.5,1.5,2.5,3.5,4.5,5.5], edgecolor='black')\n",
    "plt.xlabel(\"User rating (1–5 stars)\")\n",
    "plt.ylabel(\"Number of interactions\")\n",
    "plt.title(\"Ratings distribution — Amazon Books 2023\")\n",
    "plt.show()"
   ]
  },
  {
   "cell_type": "code",
   "execution_count": 76,
   "metadata": {},
   "outputs": [
    {
     "data": {
      "image/png": "[encoded data removed]",
      "text/plain": [
       "<Figure size 400x300 with 1 Axes>"
      ]
     },
     "metadata": {},
     "output_type": "display_data"
    },
    {
     "data": {
      "image/png": "[encoded data removed]",
      "text/plain": [
       "<Figure size 400x300 with 1 Axes>"
      ]
     },
     "metadata": {},
     "output_type": "display_data"
    }
   ],
   "source": [
    "# User / item frequency\n",
    "user_freq = inter_df['user_id'].value_counts()\n",
    "item_freq = inter_df['item_id'].value_counts()\n",
    "\n",
    "plt.figure(figsize=(4,3))\n",
    "plt.hist(np.log10(user_freq + 1), bins=30, color='steelblue', alpha=0.8)\n",
    "plt.xlabel(\"Number of interactions per user\")\n",
    "plt.ylabel(\"User count\")\n",
    "plt.title(\"User log distribution\")\n",
    "plt.show()\n",
    "\n",
    "plt.figure(figsize=(4,3))\n",
    "plt.hist(np.log10(item_freq + 1), bins=40, color='darkorange', alpha=0.8)\n",
    "plt.xlabel(\"Number of interactions per item\")\n",
    "plt.ylabel(\"Item count\")\n",
    "plt.title(\"Item log distribution\")\n",
    "plt.show()"
   ]
  },
  {
   "cell_type": "code",
   "execution_count": 53,
   "metadata": {},
   "outputs": [
    {
     "data": {
      "image/png": "[encoded data removed]",
      "text/plain": [
       "<Figure size 640x480 with 1 Axes>"
      ]
     },
     "metadata": {},
     "output_type": "display_data"
    }
   ],
   "source": [
    "# Pos vs Neg labels\n",
    "\n",
    "inter_df['label_pos'].value_counts(normalize=True).plot(kind='bar', color=['orange','steelblue'])\n",
    "plt.xticks([0,1], ['Negative (0)','Positive (1)'], rotation=0)\n",
    "plt.ylabel(\"Proportion\")\n",
    "plt.title(\"Positive vs. Negative labels\")\n",
    "plt.show()"
   ]
  },
  {
   "cell_type": "code",
   "execution_count": 77,
   "metadata": {},
   "outputs": [
    {
     "data": {
      "image/png": "[encoded data removed]",
      "text/plain": [
       "<Figure size 400x300 with 1 Axes>"
      ]
     },
     "metadata": {},
     "output_type": "display_data"
    }
   ],
   "source": [
    "# Description Length: \n",
    "\n",
    "# 1) Tokens\n",
    "tokenizer = AutoTokenizer.from_pretrained(\"sentence-transformers/all-mpnet-base-v2\")\n",
    "texts = items_df[\"description\"]  # keep as a Series\n",
    "N = len(texts)\n",
    "lengths = np.empty(N, dtype=np.int32)\n",
    "\n",
    "B = 2048 \n",
    "for i in tqdm(range(0, N, B), desc=\"Tokenizing (full)\"):\n",
    "    batch = texts.iloc[i:i+B].tolist()\n",
    "    enc = tokenizer(\n",
    "        batch,\n",
    "        add_special_tokens=True,\n",
    "        truncation=False,\n",
    "        padding=False,\n",
    "        return_length=True\n",
    "    )\n",
    "    if \"length\" in enc:  # fast tokenizers return this\n",
    "        lengths[i:i+len(batch)] = np.asarray(enc[\"length\"], dtype=np.int32)\n",
    "    else:\n",
    "        lengths[i:i+len(batch)] = np.asarray([len(x) for x in enc[\"input_ids\"]], dtype=np.int32)\n",
    "\n",
    "items_df[\"token_len\"] = lengths  # single assign at the end\n",
    "\n",
    "# Plot\n",
    "plt.figure(figsize=(4,3))\n",
    "plt.hist(lengths, bins=150)\n",
    "plt.xlabel(\"Description length (tokens)\")\n",
    "plt.ylabel(\"Number of items\")\n",
    "plt.title(\"Token-length distribution (full dataset)\")\n",
    "plt.show()\n",
    "# Plot\n",
    "plt.figure(figsize=(4,3))\n",
    "plt.hist(lengths, bins=150)\n",
    "plt.xlabel(\"Description length (tokens)\")\n",
    "plt.ylabel(\"Number of items\")\n",
    "plt.title(\"Token-length distribution\")\n",
    "plt.show()"
   ]
  },
  {
   "cell_type": "code",
   "execution_count": 57,
   "metadata": {},
   "outputs": [
    {
     "name": "stdout",
     "output_type": "stream",
     "text": [
      "p50=355, p90=860, p99=960, share>512=34.610%\n"
     ]
    }
   ],
   "source": [
    "# Quick stats to decide truncation vs chunking\n",
    "p50 = np.percentile(lengths, 50)\n",
    "p90 = np.percentile(lengths, 90)\n",
    "p99 = np.percentile(lengths, 99)\n",
    "share_over_512 = (lengths > 512).mean()\n",
    "print(f\"p50={p50:.0f}, p90={p90:.0f}, p99={p99:.0f}, share>512={share_over_512:.3%}\")"
   ]
  },
  {
   "cell_type": "code",
   "execution_count": 81,
   "metadata": {},
   "outputs": [
    {
     "data": {
      "image/png": "[encoded data removed]",
      "text/plain": [
       "<Figure size 400x300 with 1 Axes>"
      ]
     },
     "metadata": {},
     "output_type": "display_data"
    }
   ],
   "source": [
    "# 2) Characters\n",
    "\n",
    "plt.figure(figsize=(4,3))\n",
    "items_df['desc_len'].hist(bins=50)\n",
    "plt.xlabel(\"Description length (characters)\")\n",
    "plt.ylabel(\"Number of items\")\n",
    "plt.title(\"Character-length distribution of item description\")\n",
    "plt.show()"
   ]
  },
  {
   "cell_type": "code",
   "execution_count": 58,
   "metadata": {},
   "outputs": [
    {
     "name": "stdout",
     "output_type": "stream",
     "text": [
      "Users: 10287207\n",
      "Items: 4424610\n",
      "Interactions: 29106706\n",
      "Positives (%): 84.9\n",
      "Average interactions per user: 2.8294080210498342\n",
      "Average interactions per item: 6.57836645489659\n"
     ]
    }
   ],
   "source": [
    "# Summary stats\n",
    "\n",
    "print(\"Users:\", inter_df['user_id'].nunique())\n",
    "print(\"Items:\", inter_df['item_id'].nunique())\n",
    "print(\"Interactions:\", len(inter_df))\n",
    "print(\"Positives (%):\", round(inter_df['label_pos'].mean()*100, 2))\n",
    "print(\"Average interactions per user:\", len(inter_df)/inter_df['user_id'].nunique())\n",
    "print(\"Average interactions per item:\", len(inter_df)/inter_df['item_id'].nunique())"
   ]
  },
  {
   "cell_type": "markdown",
   "metadata": {},
   "source": [
    "### 7. Save the data"
   ]
  },
  {
   "cell_type": "code",
   "execution_count": 82,
   "metadata": {},
   "outputs": [],
   "source": [
    "items_df.to_parquet(ITEMS_OUT, index=False)\n",
    "inter_df.to_parquet(INTER_OUT, index=False)"
   ]
  },
  {
   "cell_type": "code",
   "execution_count": null,
   "metadata": {},
   "outputs": [],
   "source": []
  }
 ],
 "metadata": {
  "kernelspec": {
   "display_name": "Thesis M4",
   "language": "python",
   "name": "thesis"
  },
  "language_info": {
   "codemirror_mode": {
    "name": "ipython",
    "version": 3
   },
   "file_extension": ".py",
   "mimetype": "text/x-python",
   "name": "python",
   "nbconvert_exporter": "python",
   "pygments_lexer": "ipython3",
   "version": "3.12.11"
  }
 },
 "nbformat": 4,
 "nbformat_minor": 4
}
