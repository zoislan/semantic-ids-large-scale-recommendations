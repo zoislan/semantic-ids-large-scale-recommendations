{
 "cells": [
  {
   "cell_type": "markdown",
   "metadata": {},
   "source": [
    "# Download Amazon Reviews 2023 - Books Dataset\n",
    "\n",
    "**Dataset:** [Amazon Reviews 2023](https://amazon-reviews-2023.github.io/)"
   ]
  },
  {
   "cell_type": "code",
   "execution_count": 5,
   "metadata": {},
   "outputs": [
    {
     "name": "stdout",
     "output_type": "stream",
     "text": [
      "Libraries imported!\n"
     ]
    }
   ],
   "source": [
    "# Standard libraries\n",
    "import pandas as pd\n",
    "import numpy as np\n",
    "import json\n",
    "import gzip\n",
    "import os\n",
    "import urllib.request\n",
    "from tqdm import tqdm\n",
    "import warnings\n",
    "warnings.filterwarnings('ignore')\n",
    "\n",
    "# PyTorch with MPS support\n",
    "import torch\n",
    "import torch.nn as nn\n",
    "from torch.utils.data import Dataset, DataLoader\n",
    "\n",
    "print(\"Libraries imported!\")"
   ]
  },
  {
   "cell_type": "code",
   "execution_count": 6,
   "metadata": {},
   "outputs": [
    {
     "name": "stdout",
     "output_type": "stream",
     "text": [
      "🔍 Checking M4 GPU support...\n",
      "PyTorch version: 2.9.0\n",
      "MPS available: True\n",
      "Using M4 GPU: mps\n",
      "GPU test successful! Result shape: torch.Size([1000, 1000])\n"
     ]
    }
   ],
   "source": [
    "# Check MPS (Metal Performance Shaders) support\n",
    "print(\"🔍 Checking M4 GPU support...\")\n",
    "print(f\"PyTorch version: {torch.__version__}\")\n",
    "print(f\"MPS available: {torch.backends.mps.is_available()}\")\n",
    "\n",
    "if torch.backends.mps.is_available():\n",
    "    device = torch.device(\"mps\")\n",
    "    print(f\"Using M4 GPU: {device}\")\n",
    "    \n",
    "    # Test GPU computation\n",
    "    x = torch.randn(1000, 1000, device=device)\n",
    "    y = torch.randn(1000, 1000, device=device)\n",
    "    z = torch.mm(x, y)\n",
    "    print(f\"GPU test successful! Result shape: {z.shape}\")\n",
    "else:\n",
    "    device = torch.device(\"cpu\")\n",
    "    print(f\"MPS not available, using CPU: {device}\")\n"
   ]
  },
  {
   "cell_type": "code",
   "execution_count": 7,
   "metadata": {},
   "outputs": [
    {
     "name": "stdout",
     "output_type": "stream",
     "text": [
      "Data directories created\n"
     ]
    }
   ],
   "source": [
    "# Create data directories\n",
    "os.makedirs('data/raw', exist_ok=True)\n",
    "os.makedirs('data/processed', exist_ok=True)\n",
    "os.makedirs('data/embeddings', exist_ok=True)\n",
    "\n",
    "print(\"Data directories created\")"
   ]
  },
  {
   "cell_type": "code",
   "execution_count": 9,
   "metadata": {},
   "outputs": [
    {
     "name": "stdout",
     "output_type": "stream",
     "text": [
      "Downloading Books category...\n",
      " Downloading reviews from: https://mcauleylab.ucsd.edu/public_datasets/data/amazon_2023/raw/review_categories/Books.jsonl.gz\n",
      "Downloading: 100.0% (5928.8MB/5928.8MB)\n",
      " Downloaded: data/raw/Books_reviews.jsonl.gz\n",
      " Downloading metadata from: https://mcauleylab.ucsd.edu/public_datasets/data/amazon_2023/raw/meta_categories/meta_Books.jsonl.gz\n",
      "Downloading: 100.0% (4713.2MB/4713.2MB)\n",
      " Downloaded: data/raw/Books_meta.jsonl.gz\n",
      "Files saved to: data/raw/\n",
      "   - Reviews: data/raw/Books_reviews.jsonl.gz\n",
      "   - Metadata: data/raw/Books_meta.jsonl.gz\n"
     ]
    }
   ],
   "source": [
    "# Download Books category with progress bars\n",
    "CATEGORY = \"Books\"\n",
    "\n",
    "print(f\"Downloading {CATEGORY} category...\")\n",
    "\n",
    "def download_with_progress(url, filename):\n",
    "    \"\"\"Download file with progress bar using tqdm\"\"\"\n",
    "    def progress_hook(block_num, block_size, total_size):\n",
    "        if total_size > 0:\n",
    "            downloaded = block_num * block_size\n",
    "            percent = min(100, (downloaded * 100) / total_size)\n",
    "            print(f\"\\rDownloading: {percent:.1f}% ({downloaded/1024/1024:.1f}MB/{total_size/1024/1024:.1f}MB)\", end=\"\")\n",
    "    \n",
    "    urllib.request.urlretrieve(url, filename, progress_hook)\n",
    "    print(f\"\\n Downloaded: {filename}\")\n",
    "\n",
    "# Download reviews\n",
    "reviews_url = f\"https://mcauleylab.ucsd.edu/public_datasets/data/amazon_2023/raw/review_categories/{CATEGORY}.jsonl.gz\"\n",
    "reviews_path = f\"data/raw/{CATEGORY}_reviews.jsonl.gz\"\n",
    "\n",
    "print(f\" Downloading reviews from: {reviews_url}\")\n",
    "download_with_progress(reviews_url, reviews_path)\n",
    "\n",
    "# Download metadata\n",
    "meta_url = f\"https://mcauleylab.ucsd.edu/public_datasets/data/amazon_2023/raw/meta_categories/meta_{CATEGORY}.jsonl.gz\"\n",
    "meta_path = f\"data/raw/{CATEGORY}_meta.jsonl.gz\"\n",
    "\n",
    "print(f\" Downloading metadata from: {meta_url}\")\n",
    "download_with_progress(meta_url, meta_path)\n",
    "\n",
    "print(f\"Files saved to: data/raw/\")\n",
    "print(f\"   - Reviews: {reviews_path}\")\n",
    "print(f\"   - Metadata: {meta_path}\")"
   ]
  },
  {
   "cell_type": "code",
   "execution_count": null,
   "metadata": {},
   "outputs": [],
   "source": []
  }
 ],
 "metadata": {
  "kernelspec": {
   "display_name": "Thesis M4",
   "language": "python",
   "name": "thesis"
  },
  "language_info": {
   "codemirror_mode": {
    "name": "ipython",
    "version": 3
   },
   "file_extension": ".py",
   "mimetype": "text/x-python",
   "name": "python",
   "nbconvert_exporter": "python",
   "pygments_lexer": "ipython3",
   "version": "3.12.11"
  }
 },
 "nbformat": 4,
 "nbformat_minor": 4
}
