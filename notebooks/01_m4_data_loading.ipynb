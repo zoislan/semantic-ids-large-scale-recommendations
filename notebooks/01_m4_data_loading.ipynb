{
  "cells": [
    {
      "cell_type": "markdown",
      "metadata": {},
      "source": [
        "# M4 MacBook Pro - Amazon Reviews 2023 Data Loading\n",
        "\n",
        "**Dataset:** [Amazon Reviews 2023 via Hugging Face](https://amazon-reviews-2023.github.io/data_loading/huggingface.html)\n",
        "\n",
        "**Environment:** M4 MacBook Pro with MPS (Metal Performance Shaders)\n",
        "\n",
        "**Purpose:** Load and explore Books dataset for Semantic ID generation\n"
      ]
    },
    {
      "cell_type": "code",
      "execution_count": null,
      "metadata": {},
      "outputs": [],
      "source": [
        "# Standard libraries\n",
        "import pandas as pd\n",
        "import numpy as np\n",
        "import matplotlib.pyplot as plt\n",
        "import seaborn as sns\n",
        "from tqdm import tqdm\n",
        "import warnings\n",
        "warnings.filterwarnings('ignore')\n",
        "\n",
        "# PyTorch with MPS support\n",
        "import torch\n",
        "import torch.nn as nn\n",
        "from torch.utils.data import Dataset, DataLoader\n",
        "\n",
        "# Hugging Face datasets\n",
        "from datasets import load_dataset\n",
        "import datasets\n",
        "datasets.logging.set_verbosity_error()  # Reduce verbosity\n",
        "\n",
        "# Set style\n",
        "plt.style.use('seaborn-v0_8')\n",
        "sns.set_palette(\"husl\")\n",
        "\n",
        "print(\"✅ Libraries imported!\")\n"
      ]
    }
  ],
  "metadata": {
    "language_info": {
      "name": "python"
    }
  },
  "nbformat": 4,
  "nbformat_minor": 2
}
