{
  "cells": [
    {
      "cell_type": "markdown",
      "metadata": {},
      "source": [
        "# Download Amazon Reviews 2023 - Books Dataset\n",
        "\n",
        "**Dataset:** [Amazon Reviews 2023](https://amazon-reviews-2023.github.io/)\n",
        "\n",
        "**Method:** Direct download (Hugging Face datasets no longer supports trust_remote_code)\n",
        "\n",
        "**Purpose:** Download and load Books dataset for Semantic ID generation\n"
      ]
    },
    {
      "cell_type": "code",
      "execution_count": null,
      "metadata": {},
      "outputs": [],
      "source": [
        "# Standard libraries\n",
        "import pandas as pd\n",
        "import numpy as np\n",
        "import json\n",
        "import gzip\n",
        "import os\n",
        "import urllib.request\n",
        "from tqdm import tqdm\n",
        "import warnings\n",
        "warnings.filterwarnings('ignore')\n",
        "\n",
        "# PyTorch with MPS support\n",
        "import torch\n",
        "import torch.nn as nn\n",
        "from torch.utils.data import Dataset, DataLoader\n",
        "\n",
        "print(\"✅ Libraries imported!\")\n"
      ]
    },
    {
      "cell_type": "code",
      "execution_count": null,
      "metadata": {},
      "outputs": [],
      "source": [
        "# Check MPS (Metal Performance Shaders) support\n",
        "print(\"🔍 Checking M4 GPU support...\")\n",
        "print(f\"PyTorch version: {torch.__version__}\")\n",
        "print(f\"MPS available: {torch.backends.mps.is_available()}\")\n",
        "\n",
        "if torch.backends.mps.is_available():\n",
        "    device = torch.device(\"mps\")\n",
        "    print(f\"✅ Using M4 GPU: {device}\")\n",
        "    \n",
        "    # Test GPU computation\n",
        "    x = torch.randn(1000, 1000, device=device)\n",
        "    y = torch.randn(1000, 1000, device=device)\n",
        "    z = torch.mm(x, y)\n",
        "    print(f\"✅ GPU test successful! Result shape: {z.shape}\")\n",
        "else:\n",
        "    device = torch.device(\"cpu\")\n",
        "    print(f\"⚠️  MPS not available, using CPU: {device}\")\n"
      ]
    },
    {
      "cell_type": "code",
      "execution_count": null,
      "metadata": {},
      "outputs": [],
      "source": [
        "# Create data directories\n",
        "os.makedirs('data/raw', exist_ok=True)\n",
        "os.makedirs('data/processed', exist_ok=True)\n",
        "os.makedirs('data/embeddings', exist_ok=True)\n",
        "\n",
        "print(\"📁 Data directories created\")\n"
      ]
    },
    {
      "cell_type": "code",
      "execution_count": null,
      "metadata": {},
      "outputs": [],
      "source": [
        "# Download Books category\n",
        "CATEGORY = \"Books\"\n",
        "\n",
        "print(f\"📥 Downloading {CATEGORY} category...\")\n",
        "print(\"This may take a few minutes due to file size...\")\n",
        "\n",
        "# Download reviews\n",
        "reviews_url = f\"https://mcauleylab.ucsd.edu/public_datasets/data/amazon_2023/raw/review_categories/{CATEGORY}.jsonl.gz\"\n",
        "reviews_path = f\"data/raw/{CATEGORY}_reviews.jsonl.gz\"\n",
        "\n",
        "print(f\"Downloading reviews from: {reviews_url}\")\n",
        "urllib.request.urlretrieve(reviews_url, reviews_path)\n",
        "print(f\"✅ Reviews downloaded to: {reviews_path}\")\n",
        "\n",
        "# Download metadata\n",
        "meta_url = f\"https://mcauleylab.ucsd.edu/public_datasets/data/amazon_2023/raw/meta_categories/meta_{CATEGORY}.jsonl.gz\"\n",
        "meta_path = f\"data/raw/{CATEGORY}_meta.jsonl.gz\"\n",
        "\n",
        "print(f\"Downloading metadata from: {meta_url}\")\n",
        "urllib.request.urlretrieve(meta_url, meta_path)\n",
        "print(f\"✅ Metadata downloaded to: {meta_path}\")\n"
      ]
    }
  ],
  "metadata": {
    "language_info": {
      "name": "python"
    }
  },
  "nbformat": 4,
  "nbformat_minor": 2
}
